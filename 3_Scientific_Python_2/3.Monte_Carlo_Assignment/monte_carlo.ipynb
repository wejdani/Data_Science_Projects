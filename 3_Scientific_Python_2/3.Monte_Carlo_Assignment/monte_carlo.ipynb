{
 "cells": [
  {
   "cell_type": "markdown",
   "id": "c2ed43ce",
   "metadata": {},
   "source": [
    "# Monte Carlo Assignment - Python\n",
    "## By Wejdan Al-Ahmadi\n",
    "<hr style=\"border:2px solid gray\"> </hr>"
   ]
  },
  {
   "cell_type": "markdown",
   "id": "2db0ce08",
   "metadata": {},
   "source": [
    "### Objective:\n",
    "\n",
    "* Build a monte carlo simulation for the birthday assignment\n",
    "\n",
    "\n"
   ]
  },
  {
   "cell_type": "markdown",
   "id": "d05191e1",
   "metadata": {},
   "source": [
    "<hr style=\"border:0.5px solid gray\"> </hr>\n",
    "\n",
    "### Description:\n",
    "\n",
    "There is a famous problem in statistics that concerns a room full of people: Same Birthday!\n",
    "\n",
    "An instructor offers a prize of $$20 dollars to anyone who thinks that two people in the room have the same birthday. Your assignment is to build a Monte Carlo simulation to tell the instructor how many people need to be in the room to give him/her a better than 50 chance of winning the $20. That is to say, how many people need to be in a room in order for the probability of two of them having the same birthday is greater than 50%. Do the same for 95% and 99%.\n",
    "\n",
    "Learn more about Monte Carlo Simulation:\n",
    "\n",
    "https://www.ibm.com/cloud/learn/monte-carlo-simulation"
   ]
  },
  {
   "cell_type": "code",
   "execution_count": 510,
   "id": "d93c0afa",
   "metadata": {},
   "outputs": [],
   "source": [
    "# imports\n",
    "import random\n",
    "import numpy as np"
   ]
  },
  {
   "cell_type": "code",
   "execution_count": 511,
   "id": "2d0d003a",
   "metadata": {},
   "outputs": [],
   "source": [
    "def solve_Birthday(tries, percentage): # this function takes the number of tries and the desired probability percentage \n",
    "    for num_people in range(2,366): # we loop through at least 2 people to 365 to see at what number of people the duplicates happen\n",
    "        tries_l = np.array([]) # this array is to store how many tries had repeated birthdays\n",
    " \n",
    "        for i in range(tries): # loop through the tries passed in the function\n",
    "            repeated_bdays = np.array([]) # this array is to store all the repeated birthdays in each try repitition  \n",
    "            birthdays = np.array([]) # this array is to store the randomly generated birthdays for each person\n",
    "            for j in range(num_people): # we loop through the number of people from the range in the first for loop\n",
    "                rand_birthday = np.random.randint(1,366,1) # get a random birthday\n",
    "                birthdays = np.append(birthdays,rand_birthday) # add it to the array\n",
    "# this counts the repeated birthdays in the birthday array using the numpy unique function which returns the repeated number and the count of times it got repeated\n",
    "            unique_values, count = np.unique(birthdays,return_counts=True) # we store them in separate variables\n",
    "            freq =np.array((unique_values,count)).T # then we combine them in an array called freq\n",
    "\n",
    "            for i in range(0,len(freq)): # we loop through the freq array and for each number that has been repeated more than 1 we add it to the repeated_bdays array\n",
    "                if(freq[i,1]>1):\n",
    "                    repeated_bdays = np.append(repeated_bdays,freq[i,1])\n",
    "            if(len(repeated_bdays)>=1): # if the length of the repeated_bdays array is larger than 1 this means theres at least 1 repeated birthday in this try\n",
    "                tries_l = np.append(tries_l,True) # we only add 1 new element in the tries_l that represents the existence of a repitition in that try\n",
    "\n",
    "            prob = len(tries_l)/tries # we get the probability by dividing the length of the tries_l with the number of tries\n",
    "        if(prob >=percentage): # if we reach our desired percentage we print out the statements\n",
    "            print(\"number of doubled bdays \",len(tries_l))\n",
    "            print(\"num of tries \", tries)\n",
    "            print(\"prob\",prob)\n",
    "            return (print(\"The number of people that need to be in the room is \",num_people)) # and return at the number of people\n",
    "\n",
    "\n",
    "\n"
   ]
  },
  {
   "cell_type": "code",
   "execution_count": 512,
   "id": "1bba47c0",
   "metadata": {},
   "outputs": [
    {
     "name": "stdout",
     "output_type": "stream",
     "text": [
      "number of doubled bdays  5\n",
      "num of tries  10\n",
      "prob 0.5\n",
      "The number of people that need to be in the room is  20\n",
      "number of doubled bdays  57\n",
      "num of tries  100\n",
      "prob 0.57\n",
      "The number of people that need to be in the room is  23\n",
      "number of doubled bdays  517\n",
      "num of tries  1000\n",
      "prob 0.517\n",
      "The number of people that need to be in the room is  23\n"
     ]
    }
   ],
   "source": [
    "# This call to the function checks for a 50% match given 3 sets of different try numbers: 10, 100, and 1000\n",
    "solve_Birthday(10,0.5)\n",
    "solve_Birthday(100,0.5)\n",
    "solve_Birthday(1000,0.5)\n",
    "\n",
    "# the result is we need at least 23 people in the room for a 50% chance of having 2 people with the same birthday"
   ]
  },
  {
   "cell_type": "code",
   "execution_count": 508,
   "id": "7be8a8a1",
   "metadata": {},
   "outputs": [
    {
     "name": "stdout",
     "output_type": "stream",
     "text": [
      "number of doubled bdays  10\n",
      "num of tries  10\n",
      "prob 1.0\n",
      "The number of people that need to be in the room is  35\n",
      "number of doubled bdays  95\n",
      "num of tries  100\n",
      "prob 0.95\n",
      "The number of people that need to be in the room is  44\n",
      "number of doubled bdays  956\n",
      "num of tries  1000\n",
      "prob 0.956\n",
      "The number of people that need to be in the room is  47\n"
     ]
    }
   ],
   "source": [
    "# This call to the function checks for a 95% match given 3 sets of different try numbers: 10, 100, and 1000\n",
    "solve_Birthday(10,0.95)\n",
    "solve_Birthday(100,0.95)\n",
    "solve_Birthday(1000,0.95)\n",
    "\n",
    "# the result is we need at least 47 people in the room for a 95% chance of having 2 people with the same birthday"
   ]
  },
  {
   "cell_type": "code",
   "execution_count": 509,
   "id": "cad88d09",
   "metadata": {},
   "outputs": [
    {
     "name": "stdout",
     "output_type": "stream",
     "text": [
      "number of doubled bdays  10\n",
      "num of tries  10\n",
      "prob 1.0\n",
      "The number of people that need to be in the room is  39\n",
      "number of doubled bdays  99\n",
      "num of tries  100\n",
      "prob 0.99\n",
      "The number of people that need to be in the room is  51\n",
      "number of doubled bdays  994\n",
      "num of tries  1000\n",
      "prob 0.994\n",
      "The number of people that need to be in the room is  59\n"
     ]
    }
   ],
   "source": [
    "# This call to the function checks for a 99% match given 3 sets of different try numbers: 10, 100, and 1000\n",
    "solve_Birthday(10,0.99)\n",
    "solve_Birthday(100,0.99)\n",
    "solve_Birthday(1000,0.99)\n",
    "\n",
    "# the result is we need at least 59 people in the room for a 99% chance of having 2 people with the same birthday"
   ]
  }
 ],
 "metadata": {
  "kernelspec": {
   "display_name": "Python 3",
   "language": "python",
   "name": "python3"
  },
  "language_info": {
   "codemirror_mode": {
    "name": "ipython",
    "version": 3
   },
   "file_extension": ".py",
   "mimetype": "text/x-python",
   "name": "python",
   "nbconvert_exporter": "python",
   "pygments_lexer": "ipython3",
   "version": "3.8.8"
  }
 },
 "nbformat": 4,
 "nbformat_minor": 5
}
