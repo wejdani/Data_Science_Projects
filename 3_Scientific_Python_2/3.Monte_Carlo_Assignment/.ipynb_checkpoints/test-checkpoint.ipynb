{
 "cells": [
  {
   "cell_type": "code",
   "execution_count": 5,
   "id": "43daed2d",
   "metadata": {},
   "outputs": [],
   "source": [
    "import random\n",
    "import numpy as np\n",
    "import collections"
   ]
  },
  {
   "cell_type": "code",
   "execution_count": 29,
   "id": "7e931b08",
   "metadata": {},
   "outputs": [
    {
     "name": "stdout",
     "output_type": "stream",
     "text": [
      "506\n",
      "1000\n",
      "0.506\n"
     ]
    }
   ],
   "source": [
    "ppl = 23\n",
    "tries = 1000\n",
    "counter = 0\n",
    "prop = np.array([])\n",
    "for i in range(tries):\n",
    "    birth_person =[]\n",
    "    for j in range(ppl): \n",
    "        birth = np.random.randint(1,366,1)\n",
    "        birth_person = np.append(birth_person, birth)\n",
    "        \n",
    "    for item, c in collections.Counter(birth_person).items():\n",
    "        if c>1: \n",
    "            counter +=1\n",
    "            break\n",
    "    #prop = np.append(prop, counter/ppl)\n",
    "    \n",
    "result = np.mean(prop)*100\n",
    "\n",
    "result2 = counter/tries\n",
    "print(counter)\n",
    "print(tries)\n",
    "print(result2)"
   ]
  },
  {
   "cell_type": "code",
   "execution_count": 33,
   "id": "1de60a14",
   "metadata": {},
   "outputs": [
    {
     "name": "stdout",
     "output_type": "stream",
     "text": [
      "10**1 trials --> 19.000000\n",
      "10**2 trials --> 24.000000\n",
      "10**3 trials --> 23.000000\n",
      "10**4 trials --> 23.000000\n"
     ]
    }
   ],
   "source": [
    "def trialSucceeds(numberOfPeopleInRoom):\n",
    "    seenBirthdays = set()\n",
    "    for person in range(numberOfPeopleInRoom):\n",
    "        birthday = random.randint(1,365)\n",
    "        if(birthday in seenBirthdays):\n",
    "            return True\n",
    "        seenBirthdays.add(birthday)\n",
    "    return False\n",
    "\n",
    "def birthdayOdds(numberOfPeopleInRoom, trials):\n",
    "    successes =0\n",
    "    for trial in range(trials):\n",
    "        if(trialSucceeds(numberOfPeopleInRoom)==True):\n",
    "            successes+=1\n",
    "    return 1.0* successes/trials \n",
    "\n",
    "def solveBirthdayProblem(trials):\n",
    "    for peopleInRoom in range(2,366):\n",
    "        if(birthdayOdds(peopleInRoom, trials)>=0.5):\n",
    "            return peopleInRoom\n",
    "        \n",
    "for k in range(1,5):\n",
    "    trials = 10**k\n",
    "    print(\"10**%d trials --> %f\" %(k, solveBirthdayProblem(trials)))"
   ]
  },
  {
   "cell_type": "code",
   "execution_count": 35,
   "id": "ace9ec7e",
   "metadata": {},
   "outputs": [
    {
     "data": {
      "text/plain": [
       "17"
      ]
     },
     "execution_count": 35,
     "metadata": {},
     "output_type": "execute_result"
    }
   ],
   "source": [
    "solveBirthdayProblem(5)"
   ]
  },
  {
   "cell_type": "code",
   "execution_count": 39,
   "id": "6b208562",
   "metadata": {},
   "outputs": [
    {
     "data": {
      "text/plain": [
       "10000"
      ]
     },
     "execution_count": 39,
     "metadata": {},
     "output_type": "execute_result"
    }
   ],
   "source": []
  }
 ],
 "metadata": {
  "kernelspec": {
   "display_name": "Python 3",
   "language": "python",
   "name": "python3"
  },
  "language_info": {
   "codemirror_mode": {
    "name": "ipython",
    "version": 3
   },
   "file_extension": ".py",
   "mimetype": "text/x-python",
   "name": "python",
   "nbconvert_exporter": "python",
   "pygments_lexer": "ipython3",
   "version": "3.8.8"
  }
 },
 "nbformat": 4,
 "nbformat_minor": 5
}
