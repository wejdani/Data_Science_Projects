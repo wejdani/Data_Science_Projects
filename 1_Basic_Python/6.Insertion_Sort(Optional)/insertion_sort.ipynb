{
 "cells": [
  {
   "cell_type": "markdown",
   "id": "da6013b1",
   "metadata": {},
   "source": [
    "# Insertion Sort Assignment - Python\n",
    "## By Wejdan Al-Ahmadi\n",
    "<hr style=\"border:2px solid gray\"> </hr>"
   ]
  },
  {
   "cell_type": "markdown",
   "id": "58b81b44",
   "metadata": {},
   "source": [
    "### OPTIONAL Assignment: Insertion Sort\n",
    "Execute insertion sort\n",
    "<hr style=\"border:0.5px solid gray\"> </hr>"
   ]
  },
  {
   "cell_type": "markdown",
   "id": "4eecc499",
   "metadata": {},
   "source": [
    "## Psuedo code for Insertion Sort\n",
    "we need 2 loops, one for the sorted part and one for the unsorted part\n",
    "for i in list: \n",
    "\n",
    "     j=i\n",
    " \n",
    "         while(list[j] < list [j-1] and j >0): \n",
    "         \n",
    "             swap(j and j-1)\n",
    "             \n",
    "             j--\n",
    "\n",
    "\n",
    "<hr style=\"border:0.5px solid gray\"> </hr>"
   ]
  },
  {
   "cell_type": "code",
   "execution_count": 1,
   "id": "0596f507",
   "metadata": {},
   "outputs": [
    {
     "name": "stdout",
     "output_type": "stream",
     "text": [
      "[3, 4, 5, 9, 12, 13, 16]\n"
     ]
    }
   ],
   "source": [
    "def insertion_sort(list):\n",
    "    for i in range(1,len(list)): \n",
    "        j = i\n",
    "\n",
    "        while(list[j] < list[j-1] and j >0):\n",
    "            list[j], list[j-1] = list[j-1],list[j]\n",
    "            j -=1\n",
    "            \n",
    "    return list\n",
    "\n",
    "list = [13, 4, 9, 5, 3, 16, 12]\n",
    "print(insertion_sort(list))"
   ]
  }
 ],
 "metadata": {
  "kernelspec": {
   "display_name": "Python 3",
   "language": "python",
   "name": "python3"
  },
  "language_info": {
   "codemirror_mode": {
    "name": "ipython",
    "version": 3
   },
   "file_extension": ".py",
   "mimetype": "text/x-python",
   "name": "python",
   "nbconvert_exporter": "python",
   "pygments_lexer": "ipython3",
   "version": "3.8.8"
  }
 },
 "nbformat": 4,
 "nbformat_minor": 5
}
