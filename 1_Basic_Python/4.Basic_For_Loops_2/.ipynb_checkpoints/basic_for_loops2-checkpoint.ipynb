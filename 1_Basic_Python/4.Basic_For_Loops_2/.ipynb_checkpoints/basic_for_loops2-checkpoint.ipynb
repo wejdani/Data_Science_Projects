{
 "cells": [
  {
   "cell_type": "markdown",
   "id": "1ad26292",
   "metadata": {},
   "source": [
    "# Basic For Loops #2 Assignment - Python\n",
    "## By Wejdan Al-Ahmadi\n",
    "<hr style=\"border:2px solid gray\"> </hr>"
   ]
  },
  {
   "cell_type": "markdown",
   "id": "f9482e90",
   "metadata": {},
   "source": [
    "### 1. Biggie Size \n",
    "\n",
    "Given a list, write a function that changes all positive numbers in the list to \"big\".\n",
    "\n",
    "* **Example:** biggie_size([-1, 3, 5, -5]) returns that same list, but whose values are now [-1, \"big\", \"big\", -5]"
   ]
  },
  {
   "cell_type": "code",
   "execution_count": 1,
   "id": "511d3f38",
   "metadata": {},
   "outputs": [
    {
     "data": {
      "text/plain": [
       "[-1, 'big', 'big', -5, 'big', -1]"
      ]
     },
     "execution_count": 1,
     "metadata": {},
     "output_type": "execute_result"
    }
   ],
   "source": [
    "def biggie_size(list):\n",
    "    for i in range(len(list)):\n",
    "        if(list[i]>0):\n",
    "            list[i] = \"big\"\n",
    "    \n",
    "    return list\n",
    "\n",
    "\n",
    "\n",
    "mylist =[-1, 3, 5, -5,10,-1]\n",
    "biggie_size(mylist)"
   ]
  },
  {
   "cell_type": "markdown",
   "id": "6d6ff24d",
   "metadata": {},
   "source": [
    "<hr style=\"border:0.5px solid gray\"> </hr>\n",
    "\n",
    "### 2. Count Positives \n",
    "Given a list of numbers, create a function to replace the last value with the number of positive values. (Note that zero is not considered to be a positive number).\n",
    "\n",
    "\n",
    "* **Example:** count_positives([-1,1,1,1]) changes the original list to [-1,1,1,3] and returns it\n",
    "\n",
    "* **Example:** count_positives([1,6,-4,-2,-7,-2]) changes the list to [1,6,-4,-2,-7,2] and returns it"
   ]
  },
  {
   "cell_type": "code",
   "execution_count": 2,
   "id": "7397970e",
   "metadata": {},
   "outputs": [
    {
     "name": "stdout",
     "output_type": "stream",
     "text": [
      "Example 1: [-1, 1, 1, 3] \n",
      "Example 2: [1, 6, -4, -2, -7, 2]\n"
     ]
    }
   ],
   "source": [
    "def count_positives(list):\n",
    "    count = 0\n",
    "    for i in range(len(list)):\n",
    "        if(list[i]>0): \n",
    "            count+=1\n",
    "    \n",
    "    list[len(list)-1]=count\n",
    "    return list\n",
    "\n",
    "my_list = [-1,1,1,1]\n",
    "ex_1 = count_positives(my_list)\n",
    "ex_2 = count_positives([1,6,-4,-2,-7,-2])\n",
    "print(\"Example 1:\",ex_1, \"\\nExample 2:\",ex_2)"
   ]
  },
  {
   "cell_type": "markdown",
   "id": "27cd60f1",
   "metadata": {},
   "source": [
    "<hr style=\"border:0.5px solid gray\"> </hr>\n",
    "\n",
    "### 3. Sum Total\n",
    "Create a function that takes a list and returns the sum of all the values in the array.\n",
    "\n",
    "\n",
    "* **Example:** sum_total([1,2,3,4]) should return 10\n",
    "\n",
    "* **Example:** sum_total([6,3,-2]) should return 7"
   ]
  },
  {
   "cell_type": "code",
   "execution_count": 3,
   "id": "4b0ca0c8",
   "metadata": {},
   "outputs": [
    {
     "name": "stdout",
     "output_type": "stream",
     "text": [
      "Example 1: 10 \n",
      "Example 2: 7\n"
     ]
    }
   ],
   "source": [
    "def sum_total(list): \n",
    "    sum = 0\n",
    "    for i in range(len(list)):\n",
    "        sum += list[i]\n",
    "    return sum\n",
    "\n",
    "my_list = [1,2,3,4]\n",
    "ex_1 = sum_total(my_list)\n",
    "ex_2 = sum_total([6,3,-2])\n",
    "print(\"Example 1:\",ex_1, \"\\nExample 2:\",ex_2)"
   ]
  },
  {
   "cell_type": "markdown",
   "id": "637a0130",
   "metadata": {},
   "source": [
    "<hr style=\"border:0.5px solid gray\"> </hr>\n",
    "\n",
    "### 4. Average \n",
    "Create a function that takes a list and returns the average of all the values.\n",
    "\n",
    "\n",
    "* **Example:** average([1,2,3,4]) should return 2.5"
   ]
  },
  {
   "cell_type": "code",
   "execution_count": 4,
   "id": "3b55b217",
   "metadata": {},
   "outputs": [
    {
     "name": "stdout",
     "output_type": "stream",
     "text": [
      "Example 1: 2.5\n"
     ]
    }
   ],
   "source": [
    "def average(list): \n",
    "    sum = 0\n",
    "    for i in range(len(list)):\n",
    "        sum += list[i]\n",
    "    return sum/len(list)\n",
    "\n",
    "my_list = [1,2,3,4]\n",
    "ex_1 = average(my_list)\n",
    "print(\"Example 1:\",ex_1)"
   ]
  },
  {
   "cell_type": "markdown",
   "id": "2ea9bac9",
   "metadata": {},
   "source": [
    "<hr style=\"border:0.5px solid gray\"> </hr>\n",
    "\n",
    "### 5. Length \n",
    "Create a function that takes a list and returns the length of the list.\n",
    "\n",
    "\n",
    "* **Example:** length([37,2,1,-9]) should return 4\n",
    "\n",
    "* **Example:** length([]) should return 0"
   ]
  },
  {
   "cell_type": "code",
   "execution_count": 5,
   "id": "1e74b3c3",
   "metadata": {},
   "outputs": [
    {
     "name": "stdout",
     "output_type": "stream",
     "text": [
      "Example 1: 4 \n",
      "Example 2: 0\n"
     ]
    }
   ],
   "source": [
    "def length(list): \n",
    "    len = 0\n",
    "    for i in list:\n",
    "        len += 1\n",
    "    return len\n",
    "\n",
    "my_list = [37,2,1,-9]\n",
    "ex_1 = length(my_list)\n",
    "ex_2 = length([])\n",
    "print(\"Example 1:\",ex_1, \"\\nExample 2:\",ex_2)"
   ]
  },
  {
   "cell_type": "markdown",
   "id": "c7257512",
   "metadata": {},
   "source": [
    "<hr style=\"border:0.5px solid gray\"> </hr>\n",
    "\n",
    "### 6. Minimum  \n",
    "Create a function that takes a list of numbers and returns the minimum value in the list. (Optional) If the list is empty, have the function return False.\n",
    "\n",
    "* **Example:** minimum([37,2,1,-9]) should return -9\n",
    "* **(Optional) Example:** minimum([]) should return False"
   ]
  },
  {
   "cell_type": "code",
   "execution_count": 6,
   "id": "074e24a6",
   "metadata": {},
   "outputs": [
    {
     "name": "stdout",
     "output_type": "stream",
     "text": [
      "Example 1: -9 \n",
      "Example 2: False\n"
     ]
    }
   ],
   "source": [
    "def minimum(list):\n",
    "    if(len(list)==0):\n",
    "        return False \n",
    "    \n",
    "    min = list[0]\n",
    "    for i in range(len(list)):\n",
    "        if(list[i]<min):\n",
    "            min =list[i]\n",
    "    return min\n",
    "\n",
    "my_list = [37,2,1,-9]\n",
    "ex_1 = minimum(my_list)\n",
    "ex_2 = minimum([])\n",
    "print(\"Example 1:\",ex_1, \"\\nExample 2:\",ex_2)\n"
   ]
  },
  {
   "cell_type": "markdown",
   "id": "d28ea671",
   "metadata": {},
   "source": [
    "<hr style=\"border:0.5px solid gray\"> </hr>\n",
    "\n",
    "### 7. Maximum   \n",
    "Create a function that takes a list and returns the maximum value in the array. (Optional) If the list is empty, have the function return False.\n",
    "\n",
    "* **Example:** maximum([37,2,1,-9]) should return 37\n",
    "* **(Optional) Example:** maximum([]) should return False"
   ]
  },
  {
   "cell_type": "code",
   "execution_count": 7,
   "id": "6481c0e5",
   "metadata": {},
   "outputs": [
    {
     "name": "stdout",
     "output_type": "stream",
     "text": [
      "Example 1: 37 \n",
      "Example 2: False\n"
     ]
    }
   ],
   "source": [
    "def maximum(list):\n",
    "    if(len(list)==0):\n",
    "        return False \n",
    "    \n",
    "    max = list[0]\n",
    "    for i in range(len(list)):\n",
    "        if(list[i]>max):\n",
    "            max =list[i]\n",
    "    return max\n",
    "\n",
    "my_list = [37,2,1,-9]\n",
    "ex_1 = maximum(my_list)\n",
    "ex_2 = maximum([])\n",
    "print(\"Example 1:\",ex_1, \"\\nExample 2:\",ex_2)\n"
   ]
  },
  {
   "cell_type": "markdown",
   "id": "fa5e50ba",
   "metadata": {},
   "source": [
    "<hr style=\"border:0.5px solid gray\"> </hr>\n",
    "\n",
    "### 8. Ultimate Analysis (Optional)\n",
    "Create a function that takes a list and returns a dictionary that has the sumTotal, average, minimum, maximum and length of the list.\n",
    "\n",
    "* **Example:** ultimate_analysis([37,2,1,-9]) should return {'sumTotal': 31, 'average': 7.75, 'minimum': -9, 'maximum': 37, 'length': 4 }"
   ]
  },
  {
   "cell_type": "code",
   "execution_count": 8,
   "id": "bedf6ba5",
   "metadata": {},
   "outputs": [
    {
     "data": {
      "text/plain": [
       "{'sumTotal': 31, 'average': 7.75, 'minimum': -9, 'maximum': 37, 'length': 4}"
      ]
     },
     "execution_count": 8,
     "metadata": {},
     "output_type": "execute_result"
    }
   ],
   "source": [
    "def ultimate_analysis(list):\n",
    "    sum = sum_total(list)\n",
    "    avg = average(list)\n",
    "    min = minimum(list)\n",
    "    max = maximum(list)\n",
    "    len = length(list)\n",
    "    return {'sumTotal':sum, 'average':avg, 'minimum': min, 'maximum': max, 'length': len}\n",
    "      \n",
    "ult_list =[37,2,1,-9]\n",
    "ultimate_analysis(ult_list)"
   ]
  },
  {
   "cell_type": "markdown",
   "id": "d77098cd",
   "metadata": {},
   "source": [
    "<hr style=\"border:0.5px solid gray\"> </hr>\n",
    "\n",
    "### 9. Reverse List (Optional)\n",
    "Create a function that takes a list and return that list with values reversed. Do this without creating a second list. (This challenge is known to appear during basic technical interviews.)\n",
    "\n",
    "* **Example:** reverse_list([37,2,1,-9]) should return [-9,1,2,37]"
   ]
  },
  {
   "cell_type": "code",
   "execution_count": 9,
   "id": "f00557f4",
   "metadata": {},
   "outputs": [
    {
     "data": {
      "text/plain": [
       "[-9, 1, 2, 37]"
      ]
     },
     "execution_count": 9,
     "metadata": {},
     "output_type": "execute_result"
    }
   ],
   "source": [
    "def reverse_list(list):\n",
    "    return list[::-1]\n",
    "\n",
    "reverse_list([37,2,1,-9])"
   ]
  }
 ],
 "metadata": {
  "kernelspec": {
   "display_name": "Python 3",
   "language": "python",
   "name": "python3"
  },
  "language_info": {
   "codemirror_mode": {
    "name": "ipython",
    "version": 3
   },
   "file_extension": ".py",
   "mimetype": "text/x-python",
   "name": "python",
   "nbconvert_exporter": "python",
   "pygments_lexer": "ipython3",
   "version": "3.8.8"
  }
 },
 "nbformat": 4,
 "nbformat_minor": 5
}
