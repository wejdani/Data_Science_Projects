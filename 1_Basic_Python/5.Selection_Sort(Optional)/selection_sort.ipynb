{
 "cells": [
  {
   "cell_type": "markdown",
   "id": "2d59fed2",
   "metadata": {},
   "source": [
    "# Selection Sort Assignment - Python\n",
    "## By Wejdan Al-Ahmadi\n",
    "<hr style=\"border:2px solid gray\"> </hr>"
   ]
  },
  {
   "cell_type": "markdown",
   "id": "c1179bb5",
   "metadata": {},
   "source": [
    "### OPTIONAL Assignment: Selection Sort\n",
    "Execute selection sort\n",
    "<hr style=\"border:0.5px solid gray\"> </hr>"
   ]
  },
  {
   "cell_type": "markdown",
   "id": "d08456d9",
   "metadata": {},
   "source": [
    "## Psuedo code for Selection Sort\n",
    "for i in list: \n",
    "\n",
    "     min = i\n",
    " \n",
    "         for j in (i+1, end_list)\n",
    " \n",
    "             if(j < min)\n",
    " \n",
    "             min = j\n",
    " \n",
    "    temp = i\n",
    "\n",
    "    i = min\n",
    "\n",
    "    min = temp \n",
    "\n",
    "\n",
    "return list\n",
    "<hr style=\"border:0.5px solid gray\"> </hr>"
   ]
  },
  {
   "cell_type": "code",
   "execution_count": 1,
   "id": "320b61d0",
   "metadata": {},
   "outputs": [
    {
     "name": "stdout",
     "output_type": "stream",
     "text": [
      "[13, 4, 9, 5, 3, 16, 12]\n"
     ]
    }
   ],
   "source": [
    "def selection_sort(list):\n",
    "    for i in range(len(list)): # we start by looping through the list\n",
    "        minimum = i #we assume the first is the smallest\n",
    "\n",
    "    for j in range(i+1, len(list)): #then we loop through the rest of the elements and compare the first to each one\n",
    "        if (list[j] < list[minimum]): #if we find a number smaller than the first \n",
    "            minimum = j # we re-assign\n",
    "\n",
    "    temp = list[i] #store the first element in a temp variable\n",
    "    list[i] = list[minimum] #swap the first element with the index of the smallest element first\n",
    "    list[minimum] = temp #put whatever was in the index of the smallest element in the temp\n",
    "    \n",
    "    return list\n",
    "\n",
    "list = [13, 4, 9, 5, 3, 16, 12]\n",
    "print(selection_sort(list))"
   ]
  }
 ],
 "metadata": {
  "kernelspec": {
   "display_name": "Python 3",
   "language": "python",
   "name": "python3"
  },
  "language_info": {
   "codemirror_mode": {
    "name": "ipython",
    "version": 3
   },
   "file_extension": ".py",
   "mimetype": "text/x-python",
   "name": "python",
   "nbconvert_exporter": "python",
   "pygments_lexer": "ipython3",
   "version": "3.8.8"
  }
 },
 "nbformat": 4,
 "nbformat_minor": 5
}
