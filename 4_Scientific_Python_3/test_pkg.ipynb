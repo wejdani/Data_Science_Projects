{
 "cells": [
  {
   "cell_type": "code",
   "execution_count": 1,
   "id": "4370303d",
   "metadata": {},
   "outputs": [
    {
     "name": "stdout",
     "output_type": "stream",
     "text": [
      "Looking in indexes: https://test.pypi.org/simple/\n",
      "Requirement already satisfied: listDesc-pkg-wejdani==0.0.1 in c:\\users\\wejda\\anaconda3\\lib\\site-packages (0.0.1)\n"
     ]
    }
   ],
   "source": [
    "!pip install -i https://test.pypi.org/simple/ listDesc-pkg-wejdani==0.0.1"
   ]
  },
  {
   "cell_type": "code",
   "execution_count": 3,
   "id": "466419d9",
   "metadata": {},
   "outputs": [],
   "source": [
    "from listDesc_pkg import List_Description"
   ]
  },
  {
   "cell_type": "code",
   "execution_count": 4,
   "id": "ebfd1a16",
   "metadata": {},
   "outputs": [
    {
     "name": "stdout",
     "output_type": "stream",
     "text": [
      "The max of this list is --> 100\n",
      "The min of this list is --> -1\n",
      "The max squared of this list is --> 10000\n",
      "The length of this list is --> 15\n",
      "The positive sum of this list is --> 219\n",
      "The negative count of this list is --> 2\n",
      "The unique elements of this list is --> [32, 1, 2, 3, 100, 5, 7, 11, 21, 30, -1]\n"
     ]
    }
   ],
   "source": [
    "some_list = [7,-1,-1,1,1,2,3,100,5,5,'one', 'twenty-one','thirty','thirty-two', 'eleven']\n",
    "\n",
    "desc = List_Description(some_list)\n",
    "print(f\"The max of this list is\",\"-->\",desc.return_max())\n",
    "print(f\"The min of this list is\",\"-->\",desc.return_min())\n",
    "print(f\"The max squared of this list is\",\"-->\",desc.return_max_squared())\n",
    "print(f\"The length of this list is\",\"-->\",desc.return_length())\n",
    "print(f\"The positive sum of this list is\",\"-->\",desc.return_positive_sum())\n",
    "print(f\"The negative count of this list is\",\"-->\",desc.return_negative_count())\n",
    "print(f\"The unique elements of this list is\", \"-->\",desc.return_unique())\n"
   ]
  }
 ],
 "metadata": {
  "kernelspec": {
   "display_name": "Python 3",
   "language": "python",
   "name": "python3"
  },
  "language_info": {
   "codemirror_mode": {
    "name": "ipython",
    "version": 3
   },
   "file_extension": ".py",
   "mimetype": "text/x-python",
   "name": "python",
   "nbconvert_exporter": "python",
   "pygments_lexer": "ipython3",
   "version": "3.8.8"
  }
 },
 "nbformat": 4,
 "nbformat_minor": 5
}
