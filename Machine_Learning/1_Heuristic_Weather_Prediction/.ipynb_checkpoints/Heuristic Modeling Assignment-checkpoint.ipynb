{
 "cells": [
  {
   "cell_type": "markdown",
   "id": "5bbcdf47",
   "metadata": {},
   "source": [
    "<img align=\"right\" width=\"200\" height=\"200\" src=\"https://static.wikia.nocookie.net/lego/images/2/23/PPG_logo.png\"> \n",
    "\n",
    "# <span style=\"color:#EF7C8E\">Introduction - Heuristic Modeling Assignment - Machine Learning </span>\n",
    " \n",
    "\n",
    "\n",
    "## <span style=\"color:#55BB99\"> By: Wejdan Al-Ahmadi</span>\n",
    "<hr style=\"border:2px solid gray\"> </hr>"
   ]
  },
  {
   "cell_type": "markdown",
   "id": "09acea1a",
   "metadata": {},
   "source": [
    "## <span style=\"color:#726060\">Objectives:</span>\n",
    "\n",
    "* Continue to work on the heuristic we started in the lecture and see if you can improve the model's accuracy.\n",
    "* Add at least two additional conditions to the heuristic model and see if they improve accuracy.\n",
    "* Report your highest accuracy at the end of your notebook and turn it into the Learn Platform."
   ]
  },
  {
   "cell_type": "code",
   "execution_count": 1,
   "id": "536b5f7a",
   "metadata": {},
   "outputs": [],
   "source": [
    "#here is an example of how to build and populate a hurestic model\n",
    "\n",
    "import pandas as pd\n",
    "import numpy as np\n",
    "import matplotlib.pyplot as plt\n",
    "import seaborn as sns\n",
    "%matplotlib inline\n",
    "import time\n",
    "import datetime\n",
    "\n",
    "# Load Data\n",
    "df = pd.read_csv('./data/seattle_weather_1948-2017.csv')"
   ]
  },
  {
   "cell_type": "markdown",
   "id": "e479541d",
   "metadata": {},
   "source": [
    "### <span style=\"color:#EF7C8E\">1. Data Cleaning</span>"
   ]
  },
  {
   "cell_type": "code",
   "execution_count": 2,
   "id": "a6b96dbb",
   "metadata": {},
   "outputs": [],
   "source": [
    "def RAIN_INSERTION(cols):\n",
    "    \"\"\"\n",
    "    Insert False where NaN values are present\n",
    "    \"\"\"\n",
    "    RAIN=cols[0]\n",
    "    if pd.isnull(RAIN):\n",
    "        return False\n",
    "    else:\n",
    "        return RAIN\n",
    "    \n",
    "def PRCP_INSERTION(col):\n",
    "    \"\"\"\n",
    "    Insert the Mean of PRCP where NaN values are present\n",
    "    \"\"\"\n",
    "    PRCP=col[0]\n",
    "    if pd.isnull(PRCP):\n",
    "        return df['PRCP'].mean()\n",
    "    else:\n",
    "        return PRCP"
   ]
  },
  {
   "cell_type": "code",
   "execution_count": 3,
   "id": "8af1da7c",
   "metadata": {},
   "outputs": [],
   "source": [
    "# Apply the functions\n",
    "df['RAIN']=df[['RAIN']].apply(RAIN_INSERTION,axis=1)\n",
    "df['PRCP']=df[['PRCP']].apply(PRCP_INSERTION,axis=1)"
   ]
  },
  {
   "cell_type": "code",
   "execution_count": 4,
   "id": "26ec11bb",
   "metadata": {},
   "outputs": [
    {
     "name": "stdout",
     "output_type": "stream",
     "text": [
      "97.5\n"
     ]
    }
   ],
   "source": [
    "# First quartile (Q1)\n",
    "Q1 = np.percentile(df['TMAX'], 25, interpolation = 'midpoint')\n",
    "  \n",
    "# Third quartile (Q3)\n",
    "Q3 = np.percentile(df['TMAX'], 75, interpolation = 'midpoint')\n",
    "  \n",
    "# Interquaritle range (IQR)\n",
    "IQR = Q3 - Q1\n",
    "\n",
    "# lower bound outliers --> Q1 - 1.5(IQR)\n",
    "# higher bound outliers --> Q3 + 1.5 (IQR)\n",
    "\n",
    "\n",
    "print(Q3+ 1.5*(IQR))"
   ]
  },
  {
   "cell_type": "code",
   "execution_count": 5,
   "id": "0e490207",
   "metadata": {},
   "outputs": [],
   "source": [
    "#Dropping the outliers from TMIN column\n",
    "df=df.drop(df[df['TMIN']<17 ].index)\n",
    "#Dropping the outliers from TMAX columns i.e. the value more than 100\n",
    "df=df.drop(df[(df['TMAX']>97.5) | (df['TMAX']< 21.5)].index)\n",
    "#Dropping the outliers from PRCP columns i.e. the value more than 0.275\n",
    "df=df.drop(df[(df['PRCP']>0.25) | (df['PRCP']< -0.15) ].index)"
   ]
  },
  {
   "cell_type": "markdown",
   "id": "2cde3f11",
   "metadata": {},
   "source": [
    "### <span style=\"color:#EF7C8E\">2. Coding Heuristic by hand and evaluating</span>\n",
    "\n",
    "Conditions: \n",
    "- If it rained yesterday or the day before then it will rain today"
   ]
  },
  {
   "cell_type": "code",
   "execution_count": 6,
   "id": "ab98fd1e",
   "metadata": {},
   "outputs": [],
   "source": [
    "# Reset index and drop index column\n",
    "df = df.reset_index().drop(\"index\", axis=1)"
   ]
  },
  {
   "cell_type": "code",
   "execution_count": null,
   "id": "e69aac43",
   "metadata": {},
   "outputs": [],
   "source": [
    "# Heuristic Psuedo Code: \n",
    "\n",
    "# 1) If it rained the day before\n",
    "    # 1.1) If the day before or 2 days before or todays temperature is 50 degrees or less \n",
    "        # 1.1.1) If the PRCP is zero-->Then it did not rain \n",
    "        # 1.1.2) If the PRCP has a value --> Then it did rain\n",
    "    # 1.2) If the day before or 2 days before or todays temperature above 50 degrees\n",
    "    \n",
    "# 2) Else If it rained today --> Then it will rain\n",
    "\n",
    "# 3) Else --> It will not rain"
   ]
  },
  {
   "cell_type": "code",
   "execution_count": 79,
   "id": "b27be540",
   "metadata": {},
   "outputs": [],
   "source": [
    "# Create function to perform our heuristic\n",
    "\n",
    "# rain --> rain\n",
    "# rain, 'unknown' --> rain \n",
    "\n",
    "def heuristic(df):\n",
    "    \n",
    "    \"\"\"\n",
    "    Simple heuristic:\n",
    "    \n",
    "    If it rained yesterday or the day before yesterday\n",
    "    \n",
    "    then predict rain else predict no rain\n",
    "    \n",
    "    Frist two rows are predicted false be default\n",
    "    \"\"\"\n",
    "    \n",
    "    preds = []\n",
    "    for x in range(len(df)):\n",
    "        if x <2:\n",
    "            preds.append(False)\n",
    "        else:\n",
    "            \n",
    "            if (df.iloc[x-1][\"RAIN\"] == True):\n",
    "                if(df.iloc[x-1][\"TMAX\"]<=50)| (df.iloc[x-2][\"TMAX\"] <=50)| (df.iloc[x][\"TMAX\"] <=50):\n",
    "                        if(df.iloc[x][\"PRCP\"] ==0):\n",
    "                            preds.append(False)\n",
    "                        else: \n",
    "                            preds.append(True)\n",
    "                else:\n",
    "                    preds.append(False)\n",
    "            \n",
    "            elif (df.iloc[x][\"RAIN\"] == True):\n",
    "                preds.append(True)\n",
    "            else:\n",
    "                preds.append(False)\n",
    "    return preds\n",
    "\n",
    "# this ones accuracy is:0.9158635180194583"
   ]
  },
  {
   "cell_type": "code",
   "execution_count": 80,
   "id": "42c3b062",
   "metadata": {},
   "outputs": [
    {
     "data": {
      "text/plain": [
       "0.9158635180194583"
      ]
     },
     "execution_count": 80,
     "metadata": {},
     "output_type": "execute_result"
    }
   ],
   "source": [
    "# Apply Heuristic\n",
    "df[\"preds\"] = heuristic(df)\n",
    "\n",
    "\n",
    "# Extract results and create columns for each\n",
    "w,x,y,z = calc_confuse(df)\n",
    "\n",
    "df[\"FP\"] = w\n",
    "df[\"TP\"] = x\n",
    "df[\"FN\"] = y\n",
    "df[\"TN\"] = z\n",
    "\n",
    "# Calculate Accuracy\n",
    "(sum(df[\"TP\"]) + sum(df[\"TN\"])) / len(df)"
   ]
  },
  {
   "cell_type": "markdown",
   "id": "a176a685",
   "metadata": {},
   "source": [
    "### <span style=\"color:#EF7C8E\">3. Calculating the confusion matrix</span>"
   ]
  },
  {
   "cell_type": "code",
   "execution_count": 9,
   "id": "5986a484",
   "metadata": {},
   "outputs": [],
   "source": [
    "# Determine Accuracy\n",
    "\n",
    "# Create function to to find values\n",
    "\n",
    "def calc_confuse(df):\n",
    "    \n",
    "    \"Calculate all possible results of a confusion matrix\"\n",
    "\n",
    "    # Hold all possible values and set to zero\n",
    "    FP = np.zeros(len(df))\n",
    "    TP = np.zeros(len(df))\n",
    "    FN = np.zeros(len(df))\n",
    "    TN = np.zeros(len(df))\n",
    "    \n",
    "    for x in range(len(df)):\n",
    "        \n",
    "        # True Positive\n",
    "        if (df[\"RAIN\"].iloc[x] == True) & (df[\"preds\"].iloc[x] == True):\n",
    "            TP[x] = 1\n",
    "        # True Negative\n",
    "        elif (df[\"RAIN\"].iloc[x] == False) & (df[\"preds\"].iloc[x] == False):\n",
    "            TN[x] = 1\n",
    "        # False Negative\n",
    "        elif (df[\"RAIN\"].iloc[x] == True) & (df[\"preds\"].iloc[x] == False):\n",
    "            FN[x] = 1\n",
    "        # False Positive\n",
    "        else:\n",
    "            FP[x] = 1\n",
    "    \n",
    "    return FP, TP, FN, TN"
   ]
  },
  {
   "cell_type": "code",
   "execution_count": 81,
   "id": "b7a237fd",
   "metadata": {},
   "outputs": [],
   "source": [
    "# Extract results and create columns for each\n",
    "w,x,y,z = calc_confuse(df)\n",
    "\n",
    "df[\"FP\"] = w\n",
    "df[\"TP\"] = x\n",
    "df[\"FN\"] = y\n",
    "df[\"TN\"] = z"
   ]
  },
  {
   "cell_type": "code",
   "execution_count": 82,
   "id": "b6238b39",
   "metadata": {},
   "outputs": [
    {
     "data": {
      "text/plain": [
       "0.9158635180194583"
      ]
     },
     "execution_count": 82,
     "metadata": {},
     "output_type": "execute_result"
    }
   ],
   "source": [
    "# Calculate Accuracy\n",
    "(sum(df[\"TP\"]) + sum(df[\"TN\"])) / len(df)"
   ]
  },
  {
   "cell_type": "code",
   "execution_count": 83,
   "id": "28f860df",
   "metadata": {},
   "outputs": [
    {
     "data": {
      "text/plain": [
       "False    0.665464\n",
       "True     0.334536\n",
       "Name: RAIN, dtype: float64"
      ]
     },
     "execution_count": 83,
     "metadata": {},
     "output_type": "execute_result"
    }
   ],
   "source": [
    "# Baseline Model Prediction\n",
    "# What would be our accuracy if we predicted the majority class\n",
    "\n",
    "df[\"RAIN\"].value_counts(normalize=True)"
   ]
  },
  {
   "cell_type": "markdown",
   "id": "5b4709e2",
   "metadata": {},
   "source": [
    "### <span style=\"color:#EF7C8E\">3. Conclusion:</span>\n",
    "After taking a deeper look into the dataset, I noticed when the TMAX is higher but not too high it tends to rain, I also noticed that when the PRCP is equal to 0 its almost always not raining, Also when looking into weather forecasting I noticed they tend to look at the day before and the day of. I used this knowledge in writing my code. \n",
    "I iterated through the code and tried many different conditions and got a range of accurracies from: {63,64,66,67,69,73,77,85,91}. \n",
    "My Highest accuracy was 91 and I reached it with the following Psuedo code that I implemented into the function: \n",
    "\n",
    "\n",
    "Heuristic Psuedo Code: \n",
    "\n",
    " 1) If it rained the day before\n",
    " \n",
    "     1.1) If the day before or 2 days before or todays temperature is 50 degrees or less \n",
    "     \n",
    "         1.1.1) If the PRCP is zero-->Then it did not rain \n",
    "         1.1.2) If the PRCP has a value --> Then it did rain\n",
    "         \n",
    "     1.2) If the day before or 2 days before or todays temperature above 50 degrees\n",
    "    \n",
    " 2) Else If it rained today --> Then it will rain\n",
    "\n",
    " 3) Else --> It will not rain"
   ]
  }
 ],
 "metadata": {
  "kernelspec": {
   "display_name": "Python 3",
   "language": "python",
   "name": "python3"
  },
  "language_info": {
   "codemirror_mode": {
    "name": "ipython",
    "version": 3
   },
   "file_extension": ".py",
   "mimetype": "text/x-python",
   "name": "python",
   "nbconvert_exporter": "python",
   "pygments_lexer": "ipython3",
   "version": "3.8.8"
  }
 },
 "nbformat": 4,
 "nbformat_minor": 5
}
