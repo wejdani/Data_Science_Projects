{
 "cells": [
  {
   "cell_type": "markdown",
   "id": "66f011e2",
   "metadata": {},
   "source": [
    "# Intermediate Functions #2 - Python\n",
    "## By Wejdan Al-Ahmadi\n",
    "<hr style=\"border:2px solid gray\"> </hr>"
   ]
  },
  {
   "cell_type": "markdown",
   "id": "294fd125",
   "metadata": {},
   "source": [
    "### Objective:\n",
    "\n",
    "* Practice writing functions and looping over dictionaries\n",
    "* Better understand how to traverse through a list of dictionaries or through a dictionary of lists\n",
    "\n",
    "\n",
    "**Note: Avoid using class keywords like int, str, list, and dict as variable/parameter names.**"
   ]
  },
  {
   "cell_type": "markdown",
   "id": "707f2c75",
   "metadata": {},
   "source": [
    "<hr style=\"border:0.5px solid gray\"> </hr>\n",
    "\n",
    "### 1. Update Values in Dictionaries and Lists\n",
    "\n",
    "\n",
    "* Change the value 10 in x to 15. Once you're done, x should now be [ [5,2,3], [15,8,9] ].\n",
    "* Change the last_name of the first student from 'Jordan' to 'Bryant'\n",
    "* In the sports_directory, change 'Messi' to 'Andres'\n",
    "* Change the value 20 in z to 30\n"
   ]
  },
  {
   "cell_type": "code",
   "execution_count": 1,
   "id": "8dbd1b32",
   "metadata": {},
   "outputs": [],
   "source": [
    "x = [ [5,2,3], [10,8,9] ] \n",
    "students = [\n",
    "     {'first_name':  'Michael', 'last_name' : 'Jordan'},\n",
    "     {'first_name' : 'John', 'last_name' : 'Rosales'}\n",
    "]\n",
    "sports_directory = {\n",
    "    'basketball' : ['Kobe', 'Jordan', 'James', 'Curry'],\n",
    "    'soccer' : ['Messi', 'Ronaldo', 'Rooney']\n",
    "}\n",
    "z = [ {'x': 10, 'y': 20} ]"
   ]
  },
  {
   "cell_type": "code",
   "execution_count": 2,
   "id": "52b2cb09",
   "metadata": {},
   "outputs": [
    {
     "data": {
      "text/plain": [
       "[[5, 2, 3], [15, 8, 9]]"
      ]
     },
     "execution_count": 2,
     "metadata": {},
     "output_type": "execute_result"
    }
   ],
   "source": [
    "# Change the value 10 in x to 15. Once you're done, x should now be [ [5,2,3], [15,8,9] ].\n",
    "x[1][0] = 15\n",
    "x"
   ]
  },
  {
   "cell_type": "code",
   "execution_count": 3,
   "id": "81612f93",
   "metadata": {},
   "outputs": [
    {
     "name": "stdout",
     "output_type": "stream",
     "text": [
      "['Michael', 'Bryant']\n",
      "['John', 'Rosales']\n"
     ]
    }
   ],
   "source": [
    "# Change the last_name of the first student from 'Jordan' to 'Bryant'\n",
    "for i in students:\n",
    "    if(i['last_name']=='Jordan'):\n",
    "        i['last_name']='Bryant'\n",
    "        \n",
    "for i in students:\n",
    "    print([i['first_name'], i['last_name']])"
   ]
  },
  {
   "cell_type": "code",
   "execution_count": 4,
   "id": "a567fadd",
   "metadata": {},
   "outputs": [
    {
     "data": {
      "text/plain": [
       "{'basketball': ['Kobe', 'Jordan', 'James', 'Curry'],\n",
       " 'soccer': ['Andres', 'Ronaldo', 'Rooney']}"
      ]
     },
     "execution_count": 4,
     "metadata": {},
     "output_type": "execute_result"
    }
   ],
   "source": [
    "# In the sports_directory, change 'Messi' to 'Andres'\n",
    "temp_list = sports_directory['soccer']\n",
    "temp_list[0] = 'Andres'\n",
    "sports_directory['soccer'] = temp_list\n",
    "sports_directory"
   ]
  },
  {
   "cell_type": "code",
   "execution_count": 5,
   "id": "a27ae2b0",
   "metadata": {},
   "outputs": [
    {
     "data": {
      "text/plain": [
       "[{'x': 10, 'y': 30}]"
      ]
     },
     "execution_count": 5,
     "metadata": {},
     "output_type": "execute_result"
    }
   ],
   "source": [
    "# Change the value 20 in z to 30\n",
    "temp = z[0]\n",
    "temp['y'] = 30\n",
    "z"
   ]
  },
  {
   "cell_type": "markdown",
   "id": "2ed16981",
   "metadata": {},
   "source": [
    "<hr style=\"border:0.5px solid gray\"> </hr>\n",
    "\n",
    "### 2. Iterate Through a List of Dictionaries\n",
    "\n",
    "Create a function iterateDictionary(some_list) that, given a list of dictionaries, the function loops through each dictionary in the list and prints each key and the associated value. For example, given the following list:"
   ]
  },
  {
   "cell_type": "code",
   "execution_count": 10,
   "id": "96108b29",
   "metadata": {},
   "outputs": [
    {
     "name": "stdout",
     "output_type": "stream",
     "text": [
      "first_name - Michael, last_name - Jordan\n",
      "first_name - John, last_name - Rosales\n",
      "first_name - Mark, last_name - Guillen\n",
      "first_name - KB, last_name - Tonel\n"
     ]
    }
   ],
   "source": [
    "students = [\n",
    "         {'first_name':  'Michael', 'last_name' : 'Jordan'},\n",
    "         {'first_name' : 'John', 'last_name' : 'Rosales'},\n",
    "         {'first_name' : 'Mark', 'last_name' : 'Guillen'},\n",
    "         {'first_name' : 'KB', 'last_name' : 'Tonel'}\n",
    "    ]\n",
    "\n",
    "\n",
    "def iterateDictionary(some_list):\n",
    "    lis = some_list[0] #get the first element of the list\n",
    "    keysList = [key for key in lis] # get the keys for that first element\n",
    "\n",
    "    for i in some_list: #loop through the students dictionary\n",
    "        print(keysList[0],'-',i[keysList[0]]+\",\", keysList[1],'-',i[keysList[1]]) # access the index and then pass the key\n",
    "        \n",
    "iterateDictionary(students) \n",
    "\n",
    "# should output: (it's okay if each key-value pair ends up on 2 separate lines;\n",
    "# bonus to get them to appear exactly as below!)\n",
    "#first_name - Michael, last_name - Jordan\n",
    "#first_name - John, last_name - Rosales\n",
    "#first_name - Mark, last_name - Guillen\n",
    "#first_name - KB, last_name - Tonel"
   ]
  },
  {
   "cell_type": "markdown",
   "id": "191e19f3",
   "metadata": {},
   "source": [
    "<hr style=\"border:0.5px solid gray\"> </hr>\n",
    "\n",
    "### 3. Get Values From a List of Dictionaries\n",
    "\n",
    "Create a function iterateDictionary2(key_name, some_list) that, given a list of dictionaries and a key name, the function prints the value stored in that key for each dictionary. For example, iterateDictionary2('first_name', students) should output:\n",
    "\n",
    "* Michael\n",
    "* John\n",
    "* Mark\n",
    "* KB\n",
    "\n",
    "And iterateDictionary2('last_name', students) should output:\n",
    "\n",
    "* Jordan\n",
    "* Rosales\n",
    "* Guillen\n",
    "* Tonel\n"
   ]
  },
  {
   "cell_type": "code",
   "execution_count": 8,
   "id": "d33cb00c",
   "metadata": {},
   "outputs": [
    {
     "name": "stdout",
     "output_type": "stream",
     "text": [
      "The first names are: \n",
      "Michael\n",
      "John\n",
      "Mark\n",
      "KB\n",
      "\n",
      "The last names are: \n",
      "Jordan\n",
      "Rosales\n",
      "Guillen\n",
      "Tonel\n"
     ]
    }
   ],
   "source": [
    "def iterateDictionary2(key_name, some_list):\n",
    "     for i in some_list: # loop through the list\n",
    "        print(i[key_name]) # access the index and then the keyname thats passed through the function\n",
    "        \n",
    "students = [\n",
    "         {'first_name':  'Michael', 'last_name' : 'Jordan'},\n",
    "         {'first_name' : 'John', 'last_name' : 'Rosales'},\n",
    "         {'first_name' : 'Mark', 'last_name' : 'Guillen'},\n",
    "         {'first_name' : 'KB', 'last_name' : 'Tonel'}\n",
    "    ]\n",
    "\n",
    "# first output of the first names\n",
    "print(\"The first names are: \")\n",
    "iterateDictionary2('first_name', students) \n",
    "\n",
    "# second output of the last names\n",
    "print(\"\\nThe last names are: \") \n",
    "iterateDictionary2('last_name', students)"
   ]
  },
  {
   "cell_type": "markdown",
   "id": "a75f6e85",
   "metadata": {},
   "source": [
    "<hr style=\"border:0.5px solid gray\"> </hr>\n",
    "\n",
    "### 4. Iterate Through a Dictionary with List Values\n",
    "\n",
    "Create a function printInfo(some_dict) that given a dictionary whose values are all lists, prints the name of each key along with the size of its list, and then prints the associated values within each key's list. For example:\n",
    "\n",
    "**Output:**\n",
    "\n",
    "\n",
    "7 LOCATIONS\n",
    "* San Jose\n",
    "* Seattle\n",
    "* Dallas\n",
    "* Chicago\n",
    "* Tulsa\n",
    "* DC\n",
    "* Burbank\n",
    "    \n",
    "    \n",
    "    \n",
    "    \n",
    "8 INSTRUCTORS\n",
    "* Michael\n",
    "* Amy\n",
    "* Eduardo\n",
    "* Josh\n",
    "* Graham\n",
    "* Patrick\n",
    "* Minh\n",
    "* Devon"
   ]
  },
  {
   "cell_type": "code",
   "execution_count": 9,
   "id": "eb49f113",
   "metadata": {},
   "outputs": [
    {
     "name": "stdout",
     "output_type": "stream",
     "text": [
      "\n",
      "7 locations\n",
      "San Jose\n",
      "Seattle\n",
      "Dallas\n",
      "Chicago\n",
      "Tulsa\n",
      "DC\n",
      "Burbank\n",
      "\n",
      "8 instructors\n",
      "Michael\n",
      "Amy\n",
      "Eduardo\n",
      "Josh\n",
      "Graham\n",
      "Patrick\n",
      "Minh\n",
      "Devon\n"
     ]
    }
   ],
   "source": [
    "dojo = {\n",
    "   'locations': ['San Jose', 'Seattle', 'Dallas', 'Chicago', 'Tulsa', 'DC', 'Burbank'],\n",
    "   'instructors': ['Michael', 'Amy', 'Eduardo', 'Josh', 'Graham', 'Patrick', 'Minh', 'Devon']\n",
    "}\n",
    "\n",
    "\n",
    "def printInfo(some_dict): \n",
    "    key_list = [] # define a list for the keys\n",
    "    for key in some_dict.keys(): #loop through the keys and store them in the list\n",
    "        key_list.append(key)    \n",
    "\n",
    "    for i in range(0,len(key_list)): #loop through the dictionary using the key as an index\n",
    "        print() #for formatting purposes\n",
    "        print(len(some_dict[key_list[i]]), key_list[i]) #print the length of the list for each key and then the name of the key\n",
    "        print(*some_dict[key_list[i]],sep = \"\\n\") # print the list of that key in each separate line\n",
    "\n",
    "printInfo(dojo)"
   ]
  }
 ],
 "metadata": {
  "kernelspec": {
   "display_name": "Python 3",
   "language": "python",
   "name": "python3"
  },
  "language_info": {
   "codemirror_mode": {
    "name": "ipython",
    "version": 3
   },
   "file_extension": ".py",
   "mimetype": "text/x-python",
   "name": "python",
   "nbconvert_exporter": "python",
   "pygments_lexer": "ipython3",
   "version": "3.8.8"
  }
 },
 "nbformat": 4,
 "nbformat_minor": 5
}
