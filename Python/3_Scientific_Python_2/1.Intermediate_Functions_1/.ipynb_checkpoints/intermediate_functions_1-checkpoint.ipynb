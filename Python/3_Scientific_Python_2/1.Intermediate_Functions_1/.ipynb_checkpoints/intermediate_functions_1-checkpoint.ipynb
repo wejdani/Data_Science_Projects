{
 "cells": [
  {
   "cell_type": "markdown",
   "id": "4a6d738a",
   "metadata": {},
   "source": [
    "# Intermediate Functions #1 - Python\n",
    "## By Wejdan Al-Ahmadi\n",
    "<hr style=\"border:2px solid gray\"> </hr>"
   ]
  },
  {
   "cell_type": "markdown",
   "id": "fe21e65b",
   "metadata": {},
   "source": [
    "### Objective:\n",
    "\n",
    "* Practice using default parameter values\n",
    "* Practice passing in named arguments\n",
    "* Become familiar with Python's random module\n",
    "\n",
    "\n",
    "\n"
   ]
  },
  {
   "cell_type": "markdown",
   "id": "5a8f6703",
   "metadata": {},
   "source": [
    "<hr style=\"border:0.5px solid gray\"> </hr>\n",
    "\n",
    "### randInt() Function\n",
    "\n",
    "With this concept of default parameters in mind, the goal of this assignment is to write a single function we are going to name randInt() that takes up to 2 arguments.\n",
    "\n",
    "* **Requirement #1**: If no arguments are provided, the function should return a random integer between 0 and 100.\n",
    "* **Requirement #2**:If only a max number is provided, the function should return a random integer between 0 and the max number.\n",
    "* **Requirement #3**:If only a min number is provided, the function should return a random integer between the min number and 100\n",
    "* **Requirement #4**:If both a min and max number are provided, the function should return a random integer between those 2 values.\n",
    "\n"
   ]
  },
  {
   "cell_type": "code",
   "execution_count": 1,
   "id": "e16b60a2",
   "metadata": {},
   "outputs": [],
   "source": [
    "#  Imports\n",
    "import random"
   ]
  },
  {
   "cell_type": "code",
   "execution_count": 422,
   "id": "15719b01",
   "metadata": {},
   "outputs": [
    {
     "name": "stdout",
     "output_type": "stream",
     "text": [
      "28\n",
      "10\n",
      "88\n",
      "9\n",
      "Invalid input\n",
      "Invalid input\n"
     ]
    }
   ],
   "source": [
    "def randInt(minimum=0,maximum=100): # requirement #1,#2,#3 setting default values to 0 and 100\n",
    "    if(minimum > maximum or maximum < 0): # optional checking for edge cases\n",
    "        return(\"Invalid input\")\n",
    "    maximum -= minimum # making sure the maximum does not exceed the maximum set\n",
    "    randNum = random.random() * maximum + minimum # calculating the random\n",
    "    return round(randNum) # returning a rounded number\n",
    "\n",
    "print(randInt()) # requirement #1 check\n",
    "print(randInt(maximum=12)) # requirement #2 check\n",
    "print(randInt(minimum=5)) # requirement #3 check\n",
    "print(randInt(5,19)) # requirement #4 check\n",
    "print(randInt(minimum=12,maximum=5)) # optional #1 check\n",
    "print(randInt(minimum=12,maximum=0)) # optional #2 check"
   ]
  }
 ],
 "metadata": {
  "kernelspec": {
   "display_name": "Python 3",
   "language": "python",
   "name": "python3"
  },
  "language_info": {
   "codemirror_mode": {
    "name": "ipython",
    "version": 3
   },
   "file_extension": ".py",
   "mimetype": "text/x-python",
   "name": "python",
   "nbconvert_exporter": "python",
   "pygments_lexer": "ipython3",
   "version": "3.8.8"
  }
 },
 "nbformat": 4,
 "nbformat_minor": 5
}
