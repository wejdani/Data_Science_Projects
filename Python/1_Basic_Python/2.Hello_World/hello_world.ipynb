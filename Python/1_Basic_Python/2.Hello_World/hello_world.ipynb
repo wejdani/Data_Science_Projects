{
 "cells": [
  {
   "cell_type": "markdown",
   "id": "b370fe7a",
   "metadata": {},
   "source": [
    "# Hello World Assignment - Python\n",
    "## By Wejdan Al-Ahmadi"
   ]
  },
  {
   "cell_type": "markdown",
   "id": "e16c6070",
   "metadata": {},
   "source": [
    "<hr style=\"border:2px solid gray\"> </hr>"
   ]
  },
  {
   "cell_type": "markdown",
   "id": "5747794e",
   "metadata": {},
   "source": [
    "### 1. Print statement"
   ]
  },
  {
   "cell_type": "code",
   "execution_count": 1,
   "id": "8c75fff9",
   "metadata": {},
   "outputs": [
    {
     "name": "stdout",
     "output_type": "stream",
     "text": [
      "\"Hello World\"\n"
     ]
    }
   ],
   "source": [
    "print('\"Hello World\"')"
   ]
  },
  {
   "cell_type": "markdown",
   "id": "3f9908b0",
   "metadata": {},
   "source": [
    "<hr style=\"border:0.5px solid gray\"> </hr>"
   ]
  },
  {
   "cell_type": "markdown",
   "id": "68d97455",
   "metadata": {},
   "source": [
    "### 2. Print statement with String variable\n",
    "**Concatinated using ',' and '+'**"
   ]
  },
  {
   "cell_type": "code",
   "execution_count": 2,
   "id": "cb1161e5",
   "metadata": {},
   "outputs": [
    {
     "name": "stdout",
     "output_type": "stream",
     "text": [
      "Hello Wejdan !\n",
      "HelloWejdan!\n"
     ]
    }
   ],
   "source": [
    "name = \"Wejdan\"\n",
    "print(\"Hello\", name, \"!\")\n",
    "print(\"Hello\" + name + \"!\")"
   ]
  },
  {
   "cell_type": "markdown",
   "id": "60d6acc4",
   "metadata": {},
   "source": [
    "**Conclusion:** When using ',' it added spaces, but when using '+' it removed all spaces. "
   ]
  },
  {
   "cell_type": "markdown",
   "id": "b1edd6ff",
   "metadata": {},
   "source": [
    "<hr style=\"border:0.5px solid gray\"> </hr>"
   ]
  },
  {
   "cell_type": "markdown",
   "id": "dbdd2acb",
   "metadata": {},
   "source": [
    "### 3. Print statement with Int Variable\n",
    "**Concatinated using ',' and '+'**"
   ]
  },
  {
   "cell_type": "code",
   "execution_count": 3,
   "id": "c93ba78c",
   "metadata": {
    "scrolled": true
   },
   "outputs": [
    {
     "name": "stdout",
     "output_type": "stream",
     "text": [
      "Hello 7 !\n"
     ]
    },
    {
     "ename": "TypeError",
     "evalue": "can only concatenate str (not \"int\") to str",
     "output_type": "error",
     "traceback": [
      "\u001b[1;31m---------------------------------------------------------------------------\u001b[0m",
      "\u001b[1;31mTypeError\u001b[0m                                 Traceback (most recent call last)",
      "\u001b[1;32m<ipython-input-3-ddcbc6eab3ee>\u001b[0m in \u001b[0;36m<module>\u001b[1;34m\u001b[0m\n\u001b[0;32m      1\u001b[0m \u001b[0mfavorite_num\u001b[0m \u001b[1;33m=\u001b[0m \u001b[1;36m7\u001b[0m\u001b[1;33m\u001b[0m\u001b[1;33m\u001b[0m\u001b[0m\n\u001b[0;32m      2\u001b[0m \u001b[0mprint\u001b[0m\u001b[1;33m(\u001b[0m\u001b[1;34m\"Hello\"\u001b[0m\u001b[1;33m,\u001b[0m \u001b[0mfavorite_num\u001b[0m\u001b[1;33m,\u001b[0m \u001b[1;34m\"!\"\u001b[0m \u001b[1;33m)\u001b[0m\u001b[1;33m\u001b[0m\u001b[1;33m\u001b[0m\u001b[0m\n\u001b[1;32m----> 3\u001b[1;33m \u001b[0mprint\u001b[0m\u001b[1;33m(\u001b[0m\u001b[1;34m\"Hello\"\u001b[0m \u001b[1;33m+\u001b[0m \u001b[0mfavorite_num\u001b[0m \u001b[1;33m+\u001b[0m \u001b[1;34m\"!\"\u001b[0m\u001b[1;33m)\u001b[0m\u001b[1;33m\u001b[0m\u001b[1;33m\u001b[0m\u001b[0m\n\u001b[0m",
      "\u001b[1;31mTypeError\u001b[0m: can only concatenate str (not \"int\") to str"
     ]
    }
   ],
   "source": [
    "favorite_num = 7\n",
    "print(\"Hello\", favorite_num, \"!\" )\n",
    "print(\"Hello\" + favorite_num + \"!\")"
   ]
  },
  {
   "cell_type": "markdown",
   "id": "90f4b469",
   "metadata": {},
   "source": [
    "**Conclusion:** When using ',' it joined the string and int together, but when using '+' it gave an error because you cant add a string and an int, you would need to typecast. "
   ]
  },
  {
   "cell_type": "markdown",
   "id": "43068433",
   "metadata": {},
   "source": [
    "<hr style=\"border:0.5px solid gray\"> </hr>"
   ]
  },
  {
   "cell_type": "markdown",
   "id": "dd433ca3",
   "metadata": {},
   "source": [
    "### 4. Print statement with .format() and F string"
   ]
  },
  {
   "cell_type": "code",
   "execution_count": 4,
   "id": "5353b173",
   "metadata": {},
   "outputs": [
    {
     "name": "stdout",
     "output_type": "stream",
     "text": [
      "I love to eat Sushi and Noodles.\n",
      "I love to eat Sushi and Noodles.\n"
     ]
    }
   ],
   "source": [
    "favorite_food1 = \"Sushi\"\n",
    "favorite_food2 = \"Noodles\"\n",
    "print(\"I love to eat {} and {}.\".format(favorite_food1,favorite_food2))\n",
    "print(f\"I love to eat {favorite_food1} and {favorite_food2}.\")\n"
   ]
  },
  {
   "cell_type": "markdown",
   "id": "ab55f7a0",
   "metadata": {},
   "source": [
    "<hr style=\"border:0.5px solid gray\"> </hr>"
   ]
  },
  {
   "cell_type": "markdown",
   "id": "b70b357a",
   "metadata": {},
   "source": [
    "### 5. Optional : \n"
   ]
  },
  {
   "cell_type": "code",
   "execution_count": 5,
   "id": "ac2ce639",
   "metadata": {},
   "outputs": [
    {
     "name": "stdout",
     "output_type": "stream",
     "text": [
      "I love Chinese food!\n",
      "I love Japanese food\n",
      "Does the first sentance end with '!'?\n",
      " yes\n",
      "Does the second sentance end with '!'?\n",
      " no\n"
     ]
    }
   ],
   "source": [
    "food_1 = \"I love Chinese food!\"\n",
    "print(food_1)\n",
    "\n",
    "food_2 = food_1.replace(\"Chinese\", \"Japanese\")\n",
    "food_2 = food_2.replace(\"!\", \"\")\n",
    "print(food_2)\n",
    "\n",
    "def does_end(str):\n",
    " does =\"\"\n",
    " if(str.endswith(\"!\")):\n",
    "    does = \"yes\"\n",
    " else: \n",
    "    does = \"no\"\n",
    " return does\n",
    "    \n",
    "\n",
    "\n",
    "print(\"Does the first sentance end with '!'?\\n\", does_end(food_1))\n",
    "print(\"Does the second sentance end with '!'?\\n\", does_end(food_2))"
   ]
  }
 ],
 "metadata": {
  "kernelspec": {
   "display_name": "Python 3",
   "language": "python",
   "name": "python3"
  },
  "language_info": {
   "codemirror_mode": {
    "name": "ipython",
    "version": 3
   },
   "file_extension": ".py",
   "mimetype": "text/x-python",
   "name": "python",
   "nbconvert_exporter": "python",
   "pygments_lexer": "ipython3",
   "version": "3.8.8"
  }
 },
 "nbformat": 4,
 "nbformat_minor": 5
}
