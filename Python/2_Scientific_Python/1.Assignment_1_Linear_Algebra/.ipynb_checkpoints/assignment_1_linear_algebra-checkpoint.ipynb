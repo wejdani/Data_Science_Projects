{
 "cells": [
  {
   "cell_type": "markdown",
   "id": "7419dae1",
   "metadata": {},
   "source": [
    "# Assignment #1 Linear Algebra - Python\n",
    "## By Wejdan Al-Ahmadi\n",
    "<hr style=\"border:2px solid gray\"> </hr>"
   ]
  },
  {
   "cell_type": "markdown",
   "id": "8ff8f9f5",
   "metadata": {},
   "source": [
    "### Linear Algebra\n",
    "\n",
    "Use your Jupyterlab environment and NumPy to solve the attached systems of equations. What values do you get for x,y, and z?"
   ]
  },
  {
   "cell_type": "markdown",
   "id": "a0a78c55",
   "metadata": {},
   "source": [
    "<hr style=\"border:0.5px solid gray\"> </hr>\n",
    "\n",
    "### Equation #1\n",
    "\n",
    "3x + 5y = 6\n",
    "\n",
    "7x - 5y = 9"
   ]
  },
  {
   "cell_type": "code",
   "execution_count": 1,
   "id": "781c74f1",
   "metadata": {},
   "outputs": [],
   "source": [
    "import numpy as np"
   ]
  },
  {
   "cell_type": "code",
   "execution_count": 2,
   "id": "a19a99e7",
   "metadata": {},
   "outputs": [],
   "source": [
    "#coeficients\n",
    "A1 = np.array([[3,5],[7,-5]])\n",
    "\n",
    "#Requirement\n",
    "B1 = np.array([[6],[9]])"
   ]
  },
  {
   "cell_type": "code",
   "execution_count": 3,
   "id": "a90e358c",
   "metadata": {},
   "outputs": [
    {
     "data": {
      "text/plain": [
       "array([[1.5],\n",
       "       [0.3]])"
      ]
     },
     "execution_count": 3,
     "metadata": {},
     "output_type": "execute_result"
    }
   ],
   "source": [
    "# Solving the problem\n",
    "X1 = np.linalg.inv(A1).dot(B1)\n",
    "X1"
   ]
  },
  {
   "cell_type": "code",
   "execution_count": 4,
   "id": "58d75357",
   "metadata": {},
   "outputs": [],
   "source": [
    "#Checking our results by plugging in the values\n",
    "x1 = X1[0][0]\n",
    "y1 = X1[1][0]"
   ]
  },
  {
   "cell_type": "code",
   "execution_count": 5,
   "id": "4fa7606b",
   "metadata": {},
   "outputs": [
    {
     "data": {
      "text/plain": [
       "6.0"
      ]
     },
     "execution_count": 5,
     "metadata": {},
     "output_type": "execute_result"
    }
   ],
   "source": [
    "# check 3x + 5y = 6\n",
    "3*x1 + 5*y1"
   ]
  },
  {
   "cell_type": "code",
   "execution_count": 6,
   "id": "e88f5cf9",
   "metadata": {},
   "outputs": [
    {
     "data": {
      "text/plain": [
       "9.0"
      ]
     },
     "execution_count": 6,
     "metadata": {},
     "output_type": "execute_result"
    }
   ],
   "source": [
    "# check 7x - 5y = 9\n",
    "7*x1 - 5*y1"
   ]
  },
  {
   "cell_type": "markdown",
   "id": "ef11ed1d",
   "metadata": {},
   "source": [
    "<hr style=\"border:0.5px solid gray\"> </hr>\n",
    "\n",
    "### Equation #2\n",
    "\n",
    " x + y + z = 6\n",
    "\n",
    "    y + z = -4\n",
    "\n",
    "2x + 5y - z = 27"
   ]
  },
  {
   "cell_type": "code",
   "execution_count": 7,
   "id": "678edbd9",
   "metadata": {},
   "outputs": [],
   "source": [
    "#coeficients\n",
    "A2 = np.array([[1,1,1],[0,1,1],[2,5,-1]])\n",
    "\n",
    "#Requirement\n",
    "B2 = np.array([[6],[-4],[27]])"
   ]
  },
  {
   "cell_type": "code",
   "execution_count": 8,
   "id": "2138dbf4",
   "metadata": {},
   "outputs": [
    {
     "data": {
      "text/plain": [
       "array([[10. ],\n",
       "       [ 0.5],\n",
       "       [-4.5]])"
      ]
     },
     "execution_count": 8,
     "metadata": {},
     "output_type": "execute_result"
    }
   ],
   "source": [
    "# Solving the problem\n",
    "X2 = np.linalg.inv(A2).dot(B2)\n",
    "X2"
   ]
  },
  {
   "cell_type": "code",
   "execution_count": 9,
   "id": "612f7187",
   "metadata": {},
   "outputs": [],
   "source": [
    "#Checking our results by plugging in the values\n",
    "x2 = X2[0][0]\n",
    "y2 = X2[1][0]\n",
    "z2 = X2[2][0]"
   ]
  },
  {
   "cell_type": "code",
   "execution_count": 10,
   "id": "6a7742d0",
   "metadata": {},
   "outputs": [
    {
     "data": {
      "text/plain": [
       "6.000000000000002"
      ]
     },
     "execution_count": 10,
     "metadata": {},
     "output_type": "execute_result"
    }
   ],
   "source": [
    "# check  x + y + z = 6\n",
    "1*x2 + 1*y2 + 1*z2"
   ]
  },
  {
   "cell_type": "code",
   "execution_count": 11,
   "id": "28a50085",
   "metadata": {},
   "outputs": [
    {
     "data": {
      "text/plain": [
       "-4.0"
      ]
     },
     "execution_count": 11,
     "metadata": {},
     "output_type": "execute_result"
    }
   ],
   "source": [
    "# check y + z = -4\n",
    "1*y2 + 1*z2"
   ]
  },
  {
   "cell_type": "code",
   "execution_count": 12,
   "id": "cecedcee",
   "metadata": {},
   "outputs": [
    {
     "data": {
      "text/plain": [
       "27.000000000000004"
      ]
     },
     "execution_count": 12,
     "metadata": {},
     "output_type": "execute_result"
    }
   ],
   "source": [
    "# check 2x + 5y - z = 27\n",
    "2*x2 + 5*y2 - 1*z2"
   ]
  },
  {
   "cell_type": "markdown",
   "id": "b74b1622",
   "metadata": {},
   "source": [
    "<hr style=\"border:0.5px solid gray\"> </hr>\n",
    "\n",
    "### Equation #3\n",
    "\n",
    "x + y = 4\n",
    "\n",
    "2x + 2y = 8\n",
    "\n",
    "\n",
    "What happens here and why?"
   ]
  },
  {
   "cell_type": "code",
   "execution_count": 13,
   "id": "8cef8c32",
   "metadata": {},
   "outputs": [],
   "source": [
    "#coeficients\n",
    "A3 = np.array([[1,1],[2,2]])\n",
    "\n",
    "#Requirement\n",
    "B3 = np.array([[4],[8]])"
   ]
  },
  {
   "cell_type": "code",
   "execution_count": 14,
   "id": "c30bb5f3",
   "metadata": {},
   "outputs": [
    {
     "ename": "LinAlgError",
     "evalue": "Singular matrix",
     "output_type": "error",
     "traceback": [
      "\u001b[1;31m---------------------------------------------------------------------------\u001b[0m",
      "\u001b[1;31mLinAlgError\u001b[0m                               Traceback (most recent call last)",
      "\u001b[1;32m<ipython-input-14-afbb63e7123b>\u001b[0m in \u001b[0;36m<module>\u001b[1;34m\u001b[0m\n\u001b[0;32m      1\u001b[0m \u001b[1;31m# Solving the problem\u001b[0m\u001b[1;33m\u001b[0m\u001b[1;33m\u001b[0m\u001b[1;33m\u001b[0m\u001b[0m\n\u001b[1;32m----> 2\u001b[1;33m \u001b[0mX3\u001b[0m \u001b[1;33m=\u001b[0m \u001b[0mnp\u001b[0m\u001b[1;33m.\u001b[0m\u001b[0mlinalg\u001b[0m\u001b[1;33m.\u001b[0m\u001b[0minv\u001b[0m\u001b[1;33m(\u001b[0m\u001b[0mA3\u001b[0m\u001b[1;33m)\u001b[0m\u001b[1;33m.\u001b[0m\u001b[0mdot\u001b[0m\u001b[1;33m(\u001b[0m\u001b[0mB3\u001b[0m\u001b[1;33m)\u001b[0m\u001b[1;33m\u001b[0m\u001b[1;33m\u001b[0m\u001b[0m\n\u001b[0m\u001b[0;32m      3\u001b[0m \u001b[0mX3\u001b[0m\u001b[1;33m\u001b[0m\u001b[1;33m\u001b[0m\u001b[0m\n",
      "\u001b[1;32m<__array_function__ internals>\u001b[0m in \u001b[0;36minv\u001b[1;34m(*args, **kwargs)\u001b[0m\n",
      "\u001b[1;32m~\\anaconda3\\lib\\site-packages\\numpy\\linalg\\linalg.py\u001b[0m in \u001b[0;36minv\u001b[1;34m(a)\u001b[0m\n\u001b[0;32m    543\u001b[0m     \u001b[0msignature\u001b[0m \u001b[1;33m=\u001b[0m \u001b[1;34m'D->D'\u001b[0m \u001b[1;32mif\u001b[0m \u001b[0misComplexType\u001b[0m\u001b[1;33m(\u001b[0m\u001b[0mt\u001b[0m\u001b[1;33m)\u001b[0m \u001b[1;32melse\u001b[0m \u001b[1;34m'd->d'\u001b[0m\u001b[1;33m\u001b[0m\u001b[1;33m\u001b[0m\u001b[0m\n\u001b[0;32m    544\u001b[0m     \u001b[0mextobj\u001b[0m \u001b[1;33m=\u001b[0m \u001b[0mget_linalg_error_extobj\u001b[0m\u001b[1;33m(\u001b[0m\u001b[0m_raise_linalgerror_singular\u001b[0m\u001b[1;33m)\u001b[0m\u001b[1;33m\u001b[0m\u001b[1;33m\u001b[0m\u001b[0m\n\u001b[1;32m--> 545\u001b[1;33m     \u001b[0mainv\u001b[0m \u001b[1;33m=\u001b[0m \u001b[0m_umath_linalg\u001b[0m\u001b[1;33m.\u001b[0m\u001b[0minv\u001b[0m\u001b[1;33m(\u001b[0m\u001b[0ma\u001b[0m\u001b[1;33m,\u001b[0m \u001b[0msignature\u001b[0m\u001b[1;33m=\u001b[0m\u001b[0msignature\u001b[0m\u001b[1;33m,\u001b[0m \u001b[0mextobj\u001b[0m\u001b[1;33m=\u001b[0m\u001b[0mextobj\u001b[0m\u001b[1;33m)\u001b[0m\u001b[1;33m\u001b[0m\u001b[1;33m\u001b[0m\u001b[0m\n\u001b[0m\u001b[0;32m    546\u001b[0m     \u001b[1;32mreturn\u001b[0m \u001b[0mwrap\u001b[0m\u001b[1;33m(\u001b[0m\u001b[0mainv\u001b[0m\u001b[1;33m.\u001b[0m\u001b[0mastype\u001b[0m\u001b[1;33m(\u001b[0m\u001b[0mresult_t\u001b[0m\u001b[1;33m,\u001b[0m \u001b[0mcopy\u001b[0m\u001b[1;33m=\u001b[0m\u001b[1;32mFalse\u001b[0m\u001b[1;33m)\u001b[0m\u001b[1;33m)\u001b[0m\u001b[1;33m\u001b[0m\u001b[1;33m\u001b[0m\u001b[0m\n\u001b[0;32m    547\u001b[0m \u001b[1;33m\u001b[0m\u001b[0m\n",
      "\u001b[1;32m~\\anaconda3\\lib\\site-packages\\numpy\\linalg\\linalg.py\u001b[0m in \u001b[0;36m_raise_linalgerror_singular\u001b[1;34m(err, flag)\u001b[0m\n\u001b[0;32m     86\u001b[0m \u001b[1;33m\u001b[0m\u001b[0m\n\u001b[0;32m     87\u001b[0m \u001b[1;32mdef\u001b[0m \u001b[0m_raise_linalgerror_singular\u001b[0m\u001b[1;33m(\u001b[0m\u001b[0merr\u001b[0m\u001b[1;33m,\u001b[0m \u001b[0mflag\u001b[0m\u001b[1;33m)\u001b[0m\u001b[1;33m:\u001b[0m\u001b[1;33m\u001b[0m\u001b[1;33m\u001b[0m\u001b[0m\n\u001b[1;32m---> 88\u001b[1;33m     \u001b[1;32mraise\u001b[0m \u001b[0mLinAlgError\u001b[0m\u001b[1;33m(\u001b[0m\u001b[1;34m\"Singular matrix\"\u001b[0m\u001b[1;33m)\u001b[0m\u001b[1;33m\u001b[0m\u001b[1;33m\u001b[0m\u001b[0m\n\u001b[0m\u001b[0;32m     89\u001b[0m \u001b[1;33m\u001b[0m\u001b[0m\n\u001b[0;32m     90\u001b[0m \u001b[1;32mdef\u001b[0m \u001b[0m_raise_linalgerror_nonposdef\u001b[0m\u001b[1;33m(\u001b[0m\u001b[0merr\u001b[0m\u001b[1;33m,\u001b[0m \u001b[0mflag\u001b[0m\u001b[1;33m)\u001b[0m\u001b[1;33m:\u001b[0m\u001b[1;33m\u001b[0m\u001b[1;33m\u001b[0m\u001b[0m\n",
      "\u001b[1;31mLinAlgError\u001b[0m: Singular matrix"
     ]
    }
   ],
   "source": [
    "# Solving the problem\n",
    "X3 = np.linalg.inv(A3).dot(B3)\n",
    "X3"
   ]
  },
  {
   "cell_type": "markdown",
   "id": "2058f63f",
   "metadata": {},
   "source": [
    "**Conclusion:** The matrix A3 is a singular matrix, upon further investigation I found that Singular matrix means the determinent is zero which basically means it can not be reversed, so I checked the determinent with the \"np.linalg.det\" function and it gave me zero, therefore the matrix can not be reversed. "
   ]
  },
  {
   "cell_type": "code",
   "execution_count": 15,
   "id": "80ceae4b",
   "metadata": {},
   "outputs": [
    {
     "data": {
      "text/plain": [
       "0.0"
      ]
     },
     "execution_count": 15,
     "metadata": {},
     "output_type": "execute_result"
    }
   ],
   "source": [
    "# I checked the det using the numpy built in det method\n",
    "det = np.linalg.det(A3)\n",
    "det"
   ]
  },
  {
   "cell_type": "markdown",
   "id": "946e53b2",
   "metadata": {},
   "source": [
    "**However**: I was not satisfied with this solution and I still wanted to try to solve it so I looked up ways to invert a singular square matrix and I found the following: "
   ]
  },
  {
   "cell_type": "markdown",
   "id": "291f535e",
   "metadata": {},
   "source": [
    "**1. Stack overflow method that inverts a singular square matrix using the lstsq method:**\n",
    "\n",
    "[Click here](https://stackoverflow.com/questions/13795682/numpy-error-singular-matrix) to go to that link. \n"
   ]
  },
  {
   "cell_type": "code",
   "execution_count": 16,
   "id": "e08a91d5",
   "metadata": {},
   "outputs": [
    {
     "name": "stderr",
     "output_type": "stream",
     "text": [
      "<ipython-input-16-69a7d7c470d1>:7: FutureWarning: `rcond` parameter will change to the default of machine precision times ``max(M, N)`` where M and N are the input matrix dimensions.\n",
      "To use the future default and silence this warning we advise to pass `rcond=None`, to keep using the old, explicitly pass `rcond=-1`.\n",
      "  return np.linalg.lstsq(m, i)[0]\n"
     ]
    },
    {
     "data": {
      "text/plain": [
       "array([[0.1, 0.2],\n",
       "       [0.1, 0.2]])"
      ]
     },
     "execution_count": 16,
     "metadata": {},
     "output_type": "execute_result"
    }
   ],
   "source": [
    "def inv(m):\n",
    "    a, b = m.shape\n",
    "    if a != b:\n",
    "        raise ValueError(\"Only square matrices are invertible.\")\n",
    "\n",
    "    i = np.eye(a, a)\n",
    "    return np.linalg.lstsq(m, i)[0]\n",
    "inv(A3)"
   ]
  },
  {
   "cell_type": "markdown",
   "id": "3a382975",
   "metadata": {},
   "source": [
    "**2. I noticed that the result of the stack overflow method would be the same as if I transposed the matrix and divided by 10**\n",
    "\n",
    "I tried googling a lot of math and understand why 10 exactly but I could not find the result I wanted. "
   ]
  },
  {
   "cell_type": "code",
   "execution_count": 17,
   "id": "194fd857",
   "metadata": {},
   "outputs": [
    {
     "data": {
      "text/plain": [
       "array([[0.1, 0.2],\n",
       "       [0.1, 0.2]])"
      ]
     },
     "execution_count": 17,
     "metadata": {},
     "output_type": "execute_result"
    }
   ],
   "source": [
    "np.transpose(A3)/10"
   ]
  },
  {
   "cell_type": "markdown",
   "id": "949087de",
   "metadata": {},
   "source": [
    "**3. I found another stack overflow link that inverts the singular square matrix using the [psuedo inverse](https://numpy.org/doc/stable/reference/generated/numpy.linalg.pinv.html) from numpy**\n",
    "\n",
    "[Click here](https://stackoverflow.com/questions/52289379/invert-singular-matrix-on-python) to go to that link.\n",
    "\n",
    "**Moore-Penrose Inverse Definition:** the psuedo inverse is also known in the math world as the Moore-Penrose inverse, which is a generalization of the matrix inverse when the matrix may not be invertible, it can be defined even when a matrix is not invertible and for this reason it is most widely used to complete a best fit solution to a linear equation that lacks a solution. "
   ]
  },
  {
   "cell_type": "code",
   "execution_count": 18,
   "id": "bede0e1a",
   "metadata": {},
   "outputs": [
    {
     "data": {
      "text/plain": [
       "array([[0.1, 0.2],\n",
       "       [0.1, 0.2]])"
      ]
     },
     "execution_count": 18,
     "metadata": {},
     "output_type": "execute_result"
    }
   ],
   "source": [
    "inv = np.linalg.pinv(A3)\n",
    "inv"
   ]
  },
  {
   "cell_type": "code",
   "execution_count": 19,
   "id": "fea9587e",
   "metadata": {},
   "outputs": [
    {
     "data": {
      "text/plain": [
       "array([[2.],\n",
       "       [2.]])"
      ]
     },
     "execution_count": 19,
     "metadata": {},
     "output_type": "execute_result"
    }
   ],
   "source": [
    "# Solving the problem\n",
    "X3 = np.linalg.pinv(A3).dot(B3)\n",
    "X3"
   ]
  },
  {
   "cell_type": "code",
   "execution_count": 20,
   "id": "edf20b98",
   "metadata": {},
   "outputs": [],
   "source": [
    "#Checking our results by plugging in the values\n",
    "x3 = X3[0][0]\n",
    "y3 = X3[1][0]"
   ]
  },
  {
   "cell_type": "code",
   "execution_count": 21,
   "id": "9a710f74",
   "metadata": {},
   "outputs": [
    {
     "data": {
      "text/plain": [
       "3.9999999999999987"
      ]
     },
     "execution_count": 21,
     "metadata": {},
     "output_type": "execute_result"
    }
   ],
   "source": [
    "# check x + y = 4\n",
    "1*x3 + 1*y3"
   ]
  },
  {
   "cell_type": "code",
   "execution_count": 22,
   "id": "762cf4dd",
   "metadata": {},
   "outputs": [
    {
     "data": {
      "text/plain": [
       "7.999999999999997"
      ]
     },
     "execution_count": 22,
     "metadata": {},
     "output_type": "execute_result"
    }
   ],
   "source": [
    "# check 2x + 2y = 8\n",
    "2*x3 + 2*y3"
   ]
  }
 ],
 "metadata": {
  "kernelspec": {
   "display_name": "Python 3",
   "language": "python",
   "name": "python3"
  },
  "language_info": {
   "codemirror_mode": {
    "name": "ipython",
    "version": 3
   },
   "file_extension": ".py",
   "mimetype": "text/x-python",
   "name": "python",
   "nbconvert_exporter": "python",
   "pygments_lexer": "ipython3",
   "version": "3.8.8"
  }
 },
 "nbformat": 4,
 "nbformat_minor": 5
}
