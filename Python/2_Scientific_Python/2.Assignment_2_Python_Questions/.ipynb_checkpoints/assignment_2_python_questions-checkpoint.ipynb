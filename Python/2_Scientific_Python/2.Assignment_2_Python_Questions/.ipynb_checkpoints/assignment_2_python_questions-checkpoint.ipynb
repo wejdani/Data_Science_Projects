{
 "cells": [
  {
   "cell_type": "markdown",
   "id": "65d2c7b7",
   "metadata": {},
   "source": [
    "# Assignment #2 Python Questions - Python\n",
    "## By Wejdan Al-Ahmadi\n",
    "<hr style=\"border:2px solid gray\"> </hr>"
   ]
  },
  {
   "cell_type": "markdown",
   "id": "87da36b2",
   "metadata": {},
   "source": [
    "### Python Questions\n",
    "\n",
    "Complete the following questions in your own notebook and submit your notebook to the learn platform: "
   ]
  },
  {
   "cell_type": "markdown",
   "id": "cf1992ca",
   "metadata": {},
   "source": [
    "<hr style=\"border:0.5px solid gray\"> </hr>\n",
    "\n",
    "### Question #1\n",
    "\n",
    "Print the numbers between 1 and 100"
   ]
  },
  {
   "cell_type": "code",
   "execution_count": 1,
   "id": "8a6b8c6c",
   "metadata": {},
   "outputs": [
    {
     "name": "stdout",
     "output_type": "stream",
     "text": [
      "1\n",
      "2\n",
      "3\n",
      "4\n",
      "5\n",
      "6\n",
      "7\n",
      "8\n",
      "9\n",
      "10\n",
      "11\n",
      "12\n",
      "13\n",
      "14\n",
      "15\n",
      "16\n",
      "17\n",
      "18\n",
      "19\n",
      "20\n",
      "21\n",
      "22\n",
      "23\n",
      "24\n",
      "25\n",
      "26\n",
      "27\n",
      "28\n",
      "29\n",
      "30\n",
      "31\n",
      "32\n",
      "33\n",
      "34\n",
      "35\n",
      "36\n",
      "37\n",
      "38\n",
      "39\n",
      "40\n",
      "41\n",
      "42\n",
      "43\n",
      "44\n",
      "45\n",
      "46\n",
      "47\n",
      "48\n",
      "49\n",
      "50\n",
      "51\n",
      "52\n",
      "53\n",
      "54\n",
      "55\n",
      "56\n",
      "57\n",
      "58\n",
      "59\n",
      "60\n",
      "61\n",
      "62\n",
      "63\n",
      "64\n",
      "65\n",
      "66\n",
      "67\n",
      "68\n",
      "69\n",
      "70\n",
      "71\n",
      "72\n",
      "73\n",
      "74\n",
      "75\n",
      "76\n",
      "77\n",
      "78\n",
      "79\n",
      "80\n",
      "81\n",
      "82\n",
      "83\n",
      "84\n",
      "85\n",
      "86\n",
      "87\n",
      "88\n",
      "89\n",
      "90\n",
      "91\n",
      "92\n",
      "93\n",
      "94\n",
      "95\n",
      "96\n",
      "97\n",
      "98\n",
      "99\n",
      "100\n"
     ]
    }
   ],
   "source": [
    "for i in range(1,101): #loop from 1 to 100, I put 101 because python excludes the last number\n",
    "    print(i) #print the numbers"
   ]
  },
  {
   "cell_type": "markdown",
   "id": "06e9130e",
   "metadata": {},
   "source": [
    "<hr style=\"border:0.5px solid gray\"> </hr>\n",
    "\n",
    "### Question #2\n",
    "\n",
    "Print the numbers between 1 and 100 divisible by 8"
   ]
  },
  {
   "cell_type": "code",
   "execution_count": 2,
   "id": "70f555bc",
   "metadata": {},
   "outputs": [
    {
     "name": "stdout",
     "output_type": "stream",
     "text": [
      "8\n",
      "16\n",
      "24\n",
      "32\n",
      "40\n",
      "48\n",
      "56\n",
      "64\n",
      "72\n",
      "80\n",
      "88\n",
      "96\n"
     ]
    }
   ],
   "source": [
    "for i in range(1,101): #loop from 1 to 100, I put 101 because python excludes the last number\n",
    "    if(i%8==0): #check if divisible by 8 using remainder by 8 and checking if its zero which would mean it is divisible\n",
    "        print(i) #printing all the numbers"
   ]
  },
  {
   "cell_type": "markdown",
   "id": "a30af0d5",
   "metadata": {},
   "source": [
    "<hr style=\"border:0.5px solid gray\"> </hr>\n",
    "\n",
    "### Question #3\n",
    "\n",
    "Use a while loop to find the first 20 numbers divisible by 5 (range from 1 to 100)"
   ]
  },
  {
   "cell_type": "code",
   "execution_count": 3,
   "id": "580ccfec",
   "metadata": {},
   "outputs": [
    {
     "name": "stdout",
     "output_type": "stream",
     "text": [
      "5\n",
      "10\n",
      "15\n",
      "20\n",
      "25\n",
      "30\n",
      "35\n",
      "40\n",
      "45\n",
      "50\n",
      "55\n",
      "60\n",
      "65\n",
      "70\n",
      "75\n",
      "80\n",
      "85\n",
      "90\n",
      "95\n",
      "100\n"
     ]
    }
   ],
   "source": [
    "n = 100 #define end\n",
    "i = 1 #define start i counter\n",
    "count = 1 #define counter start\n",
    "while (i<=n) and (count<=20): #loop through 1 to 100 and print does not exceed 20\n",
    "    i+=1 #increase the i counter\n",
    "    if(i%5==0): #check if divisible by 5 by using remainder, if its zero then it can be divided by 5\n",
    "        count +=1 #increase print counter\n",
    "        print(i) #print the number\n",
    "        \n",
    "#but the result shows 20 wether or not I add the count condition and this is because the range is from 1 to 100, \n",
    "#if I increase the range then the count would be needed"
   ]
  },
  {
   "cell_type": "markdown",
   "id": "3db6a4b4",
   "metadata": {},
   "source": [
    "<hr style=\"border:0.5px solid gray\"> </hr>\n",
    "\n",
    "### Question #4\n",
    "\n",
    "Here is an example function that adds two numbers:"
   ]
  },
  {
   "cell_type": "code",
   "execution_count": 4,
   "id": "d1e3ff0a",
   "metadata": {},
   "outputs": [],
   "source": [
    "def simple_adding_function(a,b):\n",
    "    return a+b"
   ]
  },
  {
   "cell_type": "markdown",
   "id": "9b595ffa",
   "metadata": {},
   "source": [
    "Create a function that evaluates if a number is prime (you can not use a list of known primes). Only values between 0 and 100"
   ]
  },
  {
   "cell_type": "code",
   "execution_count": 5,
   "id": "e5a06437",
   "metadata": {},
   "outputs": [
    {
     "data": {
      "text/plain": [
       "'99 is a prime number!'"
      ]
     },
     "execution_count": 5,
     "metadata": {},
     "output_type": "execute_result"
    }
   ],
   "source": [
    "def is_prime(num):\n",
    "    if(num <0 or num >100): #first check if the number is not between 0 and 100 \n",
    "        return(\"Please enter a number between 0 and 100\") #return statement asking to enter appropriate number\n",
    "    elif(num ==0 or num ==1): #checking for 0 and 1 since they are not prime numbers\n",
    "        return(str(num) + \" is not a prime number try another one!\") #return statement asking to enter appropriate number\n",
    "    else: \n",
    "        for i in range(2,num): # we start by 2 because every number is divisible by 1, we loop through all the numbers from 2 to the passed in number\n",
    "            if(num%i ==0): #find any factors using the remainder\n",
    "                return(str(num) + \" is not a prime number try another one!\") #if a factor is found this means its not a prime\n",
    "            else: \n",
    "                return(str(num) + \" is a prime number!\") #if no factors are found this means it is a prime\n",
    "            \n",
    "\n",
    "is_prime(99)"
   ]
  }
 ],
 "metadata": {
  "kernelspec": {
   "display_name": "Python 3",
   "language": "python",
   "name": "python3"
  },
  "language_info": {
   "codemirror_mode": {
    "name": "ipython",
    "version": 3
   },
   "file_extension": ".py",
   "mimetype": "text/x-python",
   "name": "python",
   "nbconvert_exporter": "python",
   "pygments_lexer": "ipython3",
   "version": "3.8.8"
  }
 },
 "nbformat": 4,
 "nbformat_minor": 5
}
