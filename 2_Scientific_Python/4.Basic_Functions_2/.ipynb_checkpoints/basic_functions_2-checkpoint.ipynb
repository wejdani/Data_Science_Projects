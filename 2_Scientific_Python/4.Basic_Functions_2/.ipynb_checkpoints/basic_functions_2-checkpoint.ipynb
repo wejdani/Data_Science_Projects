{
 "cells": [
  {
   "cell_type": "markdown",
   "id": "c439b31b",
   "metadata": {},
   "source": [
    "# Basic Functions #2 - Python\n",
    "## By Wejdan Al-Ahmadi\n",
    "<hr style=\"border:2px solid gray\"> </hr>"
   ]
  },
  {
   "cell_type": "markdown",
   "id": "db317073",
   "metadata": {},
   "source": [
    "### Objective:\n",
    "\n",
    "* Learn how to create basic functions in Python\n",
    "* Get comfortable using lists\n",
    "* Get comfortable having the function return an expression/value\n",
    "\n"
   ]
  },
  {
   "cell_type": "markdown",
   "id": "33b21805",
   "metadata": {},
   "source": [
    "<hr style=\"border:0.5px solid gray\"> </hr>\n",
    "\n",
    "### 1. Countdown \n",
    "\n",
    "Create a function that accepts a number as an input. Return a new list that counts down by one, from the number (as the 0th element) down to 0 (as the last element).\n",
    "\n",
    "* **Example:** countdown(5) should return the list: [5,4,3,2,1,0]"
   ]
  },
  {
   "cell_type": "code",
   "execution_count": 31,
   "id": "930beb05",
   "metadata": {},
   "outputs": [
    {
     "data": {
      "text/plain": [
       "[5, 4, 3, 2, 1, 0]"
      ]
     },
     "execution_count": 31,
     "metadata": {},
     "output_type": "execute_result"
    }
   ],
   "source": [
    "def countdown(num):\n",
    "    list = [] #initialize list\n",
    "    for i in range(num, -1, -1): #loop from the num, to 0 but I specified -1 because python will exlude this at stop at 0, and then go in steps of -1 to descend\n",
    "        list.append(i) #add i to the list\n",
    "    return list #return the list\n",
    "\n",
    "countdown(5)"
   ]
  },
  {
   "cell_type": "markdown",
   "id": "f3e91d16",
   "metadata": {},
   "source": [
    "<hr style=\"border:0.5px solid gray\"> </hr>\n",
    "\n",
    "### 2. Print and Return\n",
    "\n",
    "Create a function that will receive a list with two numbers. Print the first value and return the second.\n",
    "\n",
    "\n",
    "* **Example:** print_and_return([1,2]) should print 1 and return 2"
   ]
  },
  {
   "cell_type": "code",
   "execution_count": 28,
   "id": "bdf34d65",
   "metadata": {},
   "outputs": [
    {
     "name": "stdout",
     "output_type": "stream",
     "text": [
      "1\n"
     ]
    },
    {
     "data": {
      "text/plain": [
       "2"
      ]
     },
     "execution_count": 28,
     "metadata": {},
     "output_type": "execute_result"
    }
   ],
   "source": [
    "def print_and_return(list):\n",
    "    if(len(list)>2): #first check if the list length is larger than 2 \n",
    "        return(\"This list has more than 2 elements! Please enter a list of 2 elements\") #return a statement asking for the correct input\n",
    "    elif(len(list)==0): #check if the list passed is empty\n",
    "        return(\"This list is empty! Please enter a list of 2 elements\") #return a statement asking for the correct input\n",
    "    else: \n",
    "        print(list[0]) #print the first value\n",
    "        return list[1] #return the second value\n",
    "    \n",
    "\n",
    "print_and_return([1,2])\n"
   ]
  },
  {
   "cell_type": "markdown",
   "id": "31444fc9",
   "metadata": {},
   "source": [
    "<hr style=\"border:0.5px solid gray\"> </hr>\n",
    "\n",
    "### 3. First Plus Length\n",
    "\n",
    "Create a function that accepts a list and returns the sum of the first value in the list plus the list's length.\n",
    "\n",
    "\n",
    "* **Example:** first_plus_length([1,2,3,4,5]) should return 6 (first value: 1 + length: 5)"
   ]
  },
  {
   "cell_type": "code",
   "execution_count": 33,
   "id": "89b1cd61",
   "metadata": {},
   "outputs": [
    {
     "data": {
      "text/plain": [
       "5"
      ]
     },
     "execution_count": 33,
     "metadata": {},
     "output_type": "execute_result"
    }
   ],
   "source": [
    "def first_plus_length(list): \n",
    "    if(len(list)==0): #check if the list passed is empty\n",
    "        return(\"This list is empty! Please enter a list of 2 elements\")#return a statement asking for the correct input\n",
    "    else: \n",
    "        return list[0]+len(list) #return the first element + the length of the list\n",
    "    \n",
    "first_plus_length([1,2,3,4,5])"
   ]
  },
  {
   "cell_type": "markdown",
   "id": "6d05e1cc",
   "metadata": {},
   "source": [
    "<hr style=\"border:0.5px solid gray\"> </hr>\n",
    "\n",
    "### 4. This Length, That Value\n",
    "\n",
    "Write a function that accepts two integers as parameters: size and value. The function should create and return a list whose length is equal to the given size, and whose values are all the given value.\n",
    "\n",
    "* **Example:** length_and_value(4,7) should return [7,7,7,7]\n",
    "* **Example:** length_and_value(6,2) should return [2,2,2,2,2,2]"
   ]
  },
  {
   "cell_type": "code",
   "execution_count": 39,
   "id": "57231848",
   "metadata": {},
   "outputs": [
    {
     "name": "stdout",
     "output_type": "stream",
     "text": [
      "[7, 7, 7, 7]\n",
      "[2, 2, 2, 2, 2, 2]\n"
     ]
    }
   ],
   "source": [
    "def length_and_value(size,value):\n",
    "    list=[] #initialize list\n",
    "    for i in range(0,size): #loop from 0 to size \n",
    "        list.append(value) #append value\n",
    "    return list #return the list\n",
    "\n",
    "#example 1 call: \n",
    "print(length_and_value(4,7))\n",
    "#example 2 call: \n",
    "print(length_and_value(6,2))\n",
    "        "
   ]
  },
  {
   "cell_type": "markdown",
   "id": "b1e26da4",
   "metadata": {},
   "source": [
    "<hr style=\"border:0.5px solid gray\"> </hr>\n",
    "\n",
    "### 5. Values Greater than Second (Optional)\n",
    "\n",
    "Write a function that accepts a list and creates a new list containing only the values from the original list that are greater than its 2nd value. Print how many values this is and then return the new list. If the list has less than 2 elements, have the function return False.\n",
    "\n",
    "\n",
    "* **Example:** values_greater_than_second([5,2,3,2,1,4]) should print 3 and return [5,3,4]\n",
    "* **Example:** values_greater_than_second([3]) should return False"
   ]
  },
  {
   "cell_type": "code",
   "execution_count": 47,
   "id": "eaefb61e",
   "metadata": {},
   "outputs": [
    {
     "name": "stdout",
     "output_type": "stream",
     "text": [
      "3\n"
     ]
    },
    {
     "data": {
      "text/plain": [
       "[5, 3, 4]"
      ]
     },
     "execution_count": 47,
     "metadata": {},
     "output_type": "execute_result"
    }
   ],
   "source": [
    "def values_greater_than_second(list): \n",
    "    if(len(list)<2): #check if the list passed has less than 2 elements\n",
    "        return(False) #return a False\n",
    "    else: \n",
    "        new_list =[] #initialize new list\n",
    "        for i in range(0, len(list)): #loop through the passed list from 0 to the list length\n",
    "            if(list[i] > list[1]): #compare each element to the second element defined by list[1] at index 1\n",
    "                new_list.append(list[i]) #append any value above the second element\n",
    "        print(len(new_list)) #print the length\n",
    "        return new_list #return the list\n",
    "    \n",
    "values_greater_than_second([5,2,3,2,1,4])"
   ]
  },
  {
   "cell_type": "code",
   "execution_count": null,
   "id": "3bf9b7fa",
   "metadata": {},
   "outputs": [],
   "source": []
  },
  {
   "cell_type": "code",
   "execution_count": null,
   "id": "6fffcbf7",
   "metadata": {},
   "outputs": [],
   "source": []
  },
  {
   "cell_type": "code",
   "execution_count": null,
   "id": "d585fdd5",
   "metadata": {},
   "outputs": [],
   "source": []
  },
  {
   "cell_type": "code",
   "execution_count": null,
   "id": "5ad7952e",
   "metadata": {},
   "outputs": [],
   "source": []
  },
  {
   "cell_type": "code",
   "execution_count": null,
   "id": "c3919d80",
   "metadata": {},
   "outputs": [],
   "source": []
  },
  {
   "cell_type": "code",
   "execution_count": null,
   "id": "18f0c100",
   "metadata": {},
   "outputs": [],
   "source": []
  },
  {
   "cell_type": "code",
   "execution_count": null,
   "id": "ab13600b",
   "metadata": {},
   "outputs": [],
   "source": []
  },
  {
   "cell_type": "code",
   "execution_count": null,
   "id": "ad9c81d6",
   "metadata": {},
   "outputs": [],
   "source": []
  },
  {
   "cell_type": "code",
   "execution_count": null,
   "id": "e64f8b2c",
   "metadata": {},
   "outputs": [],
   "source": []
  },
  {
   "cell_type": "code",
   "execution_count": null,
   "id": "93e6bc5c",
   "metadata": {},
   "outputs": [],
   "source": []
  },
  {
   "cell_type": "code",
   "execution_count": null,
   "id": "21f5db4d",
   "metadata": {},
   "outputs": [],
   "source": []
  },
  {
   "cell_type": "code",
   "execution_count": null,
   "id": "a04d897b",
   "metadata": {},
   "outputs": [],
   "source": []
  },
  {
   "cell_type": "code",
   "execution_count": null,
   "id": "c4299b44",
   "metadata": {},
   "outputs": [],
   "source": []
  }
 ],
 "metadata": {
  "kernelspec": {
   "display_name": "Python 3",
   "language": "python",
   "name": "python3"
  },
  "language_info": {
   "codemirror_mode": {
    "name": "ipython",
    "version": 3
   },
   "file_extension": ".py",
   "mimetype": "text/x-python",
   "name": "python",
   "nbconvert_exporter": "python",
   "pygments_lexer": "ipython3",
   "version": "3.8.8"
  }
 },
 "nbformat": 4,
 "nbformat_minor": 5
}
