{
 "cells": [
  {
   "cell_type": "markdown",
   "id": "5ec9c948",
   "metadata": {},
   "source": [
    "# Basic Functions #1 - Python\n",
    "## By Wejdan Al-Ahmadi\n",
    "<hr style=\"border:2px solid gray\"> </hr>"
   ]
  },
  {
   "cell_type": "markdown",
   "id": "1bf3db72",
   "metadata": {},
   "source": [
    "### Objective:\n",
    "\n",
    "* Avoid common mistakes of using functions\n",
    "* Really understand how to use T-diagrams to correctly predict and debug code\n",
    "\n",
    "<hr style=\"border:0.5px solid gray\"> </hr>\n"
   ]
  },
  {
   "cell_type": "code",
   "execution_count": 1,
   "id": "8c0c177a",
   "metadata": {},
   "outputs": [
    {
     "name": "stdout",
     "output_type": "stream",
     "text": [
      "5\n"
     ]
    }
   ],
   "source": [
    "#1\n",
    "def a():\n",
    "    return 5\n",
    "print(a())\n",
    "\n",
    "#Prediction: it will print 5"
   ]
  },
  {
   "cell_type": "code",
   "execution_count": 2,
   "id": "7af3ce86",
   "metadata": {},
   "outputs": [
    {
     "name": "stdout",
     "output_type": "stream",
     "text": [
      "10\n"
     ]
    }
   ],
   "source": [
    "#2\n",
    "def a():\n",
    "    return 5\n",
    "print(a()+a())\n",
    "\n",
    "#Prediction: it will print 10, because the method was called twice in the print statement"
   ]
  },
  {
   "cell_type": "code",
   "execution_count": 3,
   "id": "8731baf4",
   "metadata": {},
   "outputs": [
    {
     "name": "stdout",
     "output_type": "stream",
     "text": [
      "5\n"
     ]
    }
   ],
   "source": [
    "#3\n",
    "def a():\n",
    "    return 5\n",
    "    return 10\n",
    "print(a())\n",
    "\n",
    "#Prediction: it will print 5, because the first return is executed which means we exited the method block"
   ]
  },
  {
   "cell_type": "code",
   "execution_count": 4,
   "id": "d18e8be9",
   "metadata": {},
   "outputs": [
    {
     "name": "stdout",
     "output_type": "stream",
     "text": [
      "5\n"
     ]
    }
   ],
   "source": [
    "#4\n",
    "def a():\n",
    "    return 5\n",
    "    print(10)\n",
    "print(a())\n",
    "\n",
    "#Prediction: it will print 5, because the return statement has a higher priority than the print"
   ]
  },
  {
   "cell_type": "code",
   "execution_count": 5,
   "id": "80621b4d",
   "metadata": {},
   "outputs": [
    {
     "name": "stdout",
     "output_type": "stream",
     "text": [
      "5\n",
      "None\n"
     ]
    }
   ],
   "source": [
    "#5\n",
    "def a():\n",
    "    print(5)\n",
    "x = a()\n",
    "print(x)\n",
    "\n",
    "#Prediction: it will print 5 and then None because any nested print results in a None, because the print statement \n",
    "#returns None if its inside another print, this happened because the method calls a print and then it was called within a print\n",
    "# print(print(x)) -> None\n",
    "# print(5) - > 5"
   ]
  },
  {
   "cell_type": "code",
   "execution_count": 6,
   "id": "07db5994",
   "metadata": {},
   "outputs": [
    {
     "name": "stdout",
     "output_type": "stream",
     "text": [
      "3\n",
      "5\n"
     ]
    },
    {
     "ename": "TypeError",
     "evalue": "unsupported operand type(s) for +: 'NoneType' and 'NoneType'",
     "output_type": "error",
     "traceback": [
      "\u001b[1;31m---------------------------------------------------------------------------\u001b[0m",
      "\u001b[1;31mTypeError\u001b[0m                                 Traceback (most recent call last)",
      "\u001b[1;32m<ipython-input-6-32689425113f>\u001b[0m in \u001b[0;36m<module>\u001b[1;34m\u001b[0m\n\u001b[0;32m      2\u001b[0m \u001b[1;32mdef\u001b[0m \u001b[0ma\u001b[0m\u001b[1;33m(\u001b[0m\u001b[0mb\u001b[0m\u001b[1;33m,\u001b[0m\u001b[0mc\u001b[0m\u001b[1;33m)\u001b[0m\u001b[1;33m:\u001b[0m\u001b[1;33m\u001b[0m\u001b[1;33m\u001b[0m\u001b[0m\n\u001b[0;32m      3\u001b[0m     \u001b[0mprint\u001b[0m\u001b[1;33m(\u001b[0m\u001b[0mb\u001b[0m\u001b[1;33m+\u001b[0m\u001b[0mc\u001b[0m\u001b[1;33m)\u001b[0m\u001b[1;33m\u001b[0m\u001b[1;33m\u001b[0m\u001b[0m\n\u001b[1;32m----> 4\u001b[1;33m \u001b[0mprint\u001b[0m\u001b[1;33m(\u001b[0m\u001b[0ma\u001b[0m\u001b[1;33m(\u001b[0m\u001b[1;36m1\u001b[0m\u001b[1;33m,\u001b[0m\u001b[1;36m2\u001b[0m\u001b[1;33m)\u001b[0m \u001b[1;33m+\u001b[0m \u001b[0ma\u001b[0m\u001b[1;33m(\u001b[0m\u001b[1;36m2\u001b[0m\u001b[1;33m,\u001b[0m\u001b[1;36m3\u001b[0m\u001b[1;33m)\u001b[0m\u001b[1;33m)\u001b[0m\u001b[1;33m\u001b[0m\u001b[1;33m\u001b[0m\u001b[0m\n\u001b[0m\u001b[0;32m      5\u001b[0m \u001b[1;33m\u001b[0m\u001b[0m\n\u001b[0;32m      6\u001b[0m \u001b[1;31m#Prediction:\u001b[0m\u001b[1;33m\u001b[0m\u001b[1;33m\u001b[0m\u001b[1;33m\u001b[0m\u001b[0m\n",
      "\u001b[1;31mTypeError\u001b[0m: unsupported operand type(s) for +: 'NoneType' and 'NoneType'"
     ]
    }
   ],
   "source": [
    "#6\n",
    "def a(b,c):\n",
    "    print(b+c)\n",
    "print(a(1,2) + a(2,3))\n",
    "\n",
    "#Prediction: \n",
    "# its gonna print 3\n",
    "# then print 5 \n",
    "# then print None\n",
    "\n",
    "#Output: \n",
    "#after looking at the output, I realized the error was you cannot add two None together which is why we got the error"
   ]
  },
  {
   "cell_type": "code",
   "execution_count": 7,
   "id": "d0a77e60",
   "metadata": {},
   "outputs": [
    {
     "name": "stdout",
     "output_type": "stream",
     "text": [
      "25\n"
     ]
    }
   ],
   "source": [
    "#7\n",
    "def a(b,c):\n",
    "    return str(b)+str(c)\n",
    "print(a(2,5))\n",
    "\n",
    "#Predictions: \n",
    "# it will print '25'"
   ]
  },
  {
   "cell_type": "code",
   "execution_count": 8,
   "id": "60de65f8",
   "metadata": {},
   "outputs": [
    {
     "name": "stdout",
     "output_type": "stream",
     "text": [
      "100\n",
      "10\n"
     ]
    }
   ],
   "source": [
    "#8\n",
    "def a():\n",
    "    b = 100\n",
    "    print(b)\n",
    "    if b < 10:\n",
    "        return 5\n",
    "    else:\n",
    "        return 10\n",
    "    return 7\n",
    "print(a())\n",
    "\n",
    "\n",
    "\n",
    "#Predictions: \n",
    "#it will print 100 \n",
    "#then it will print None\n",
    "#then it will print 10\n",
    "\n",
    "#Output: \n",
    "#after looking at the output there is no None and I think it is because of the return function, because the return made it so we came out of the method\n",
    "#therefore it is not a nested print method like in example #5"
   ]
  },
  {
   "cell_type": "code",
   "execution_count": 9,
   "id": "062ab4a4",
   "metadata": {},
   "outputs": [
    {
     "name": "stdout",
     "output_type": "stream",
     "text": [
      "7\n",
      "14\n",
      "21\n"
     ]
    }
   ],
   "source": [
    "#9\n",
    "def a(b,c):\n",
    "    if b<c:\n",
    "        return 7\n",
    "    else:\n",
    "        return 14\n",
    "    return 3\n",
    "print(a(2,3))\n",
    "print(a(5,3))\n",
    "print(a(2,3) + a(5,3))\n",
    "\n",
    "#Predictions: \n",
    "#it will print 7 \n",
    "#then it will print 14\n",
    "#then it will print 21\n"
   ]
  },
  {
   "cell_type": "code",
   "execution_count": 10,
   "id": "90339703",
   "metadata": {},
   "outputs": [
    {
     "name": "stdout",
     "output_type": "stream",
     "text": [
      "8\n"
     ]
    }
   ],
   "source": [
    "#10\n",
    "def a(b,c):\n",
    "    return b+c\n",
    "    return 10\n",
    "print(a(3,5))\n",
    "\n",
    "#Predictions: \n",
    "#it will print 8"
   ]
  },
  {
   "cell_type": "code",
   "execution_count": 11,
   "id": "a462bfc4",
   "metadata": {},
   "outputs": [
    {
     "name": "stdout",
     "output_type": "stream",
     "text": [
      "500\n",
      "500\n",
      "300\n",
      "500\n"
     ]
    }
   ],
   "source": [
    "#11\n",
    "b = 500\n",
    "print(b)\n",
    "def a():\n",
    "    b = 300\n",
    "    print(b)\n",
    "print(b)\n",
    "a()\n",
    "print(b)\n",
    "\n",
    "#Predictions: \n",
    "#it will print 500\n",
    "#then it will print 500\n",
    "#then it will print 300\n",
    "#then it will print 500\n",
    "#and the reason it keeps printing 500 is because the value of b is equal to 300 only in the scope of that method\n",
    "#because we did not re-assign the value it will remain 500"
   ]
  },
  {
   "cell_type": "code",
   "execution_count": 12,
   "id": "bb6945e2",
   "metadata": {},
   "outputs": [
    {
     "name": "stdout",
     "output_type": "stream",
     "text": [
      "500\n",
      "500\n",
      "300\n",
      "500\n"
     ]
    }
   ],
   "source": [
    "#12\n",
    "b = 500\n",
    "print(b)\n",
    "def a():\n",
    "    b = 300\n",
    "    print(b)\n",
    "    return b\n",
    "print(b)\n",
    "a()\n",
    "print(b)\n",
    "\n",
    "#Predictions:\n",
    "#it will print 500\n",
    "#then it will print 500 \n",
    "#then it will print 300\n",
    "#then it will print 300\n",
    "#then it will print 500\n",
    "\n",
    "#Output: \n",
    "#I noticed that python does not show the return in the console if there is another code to run after it, \n",
    "#or maybe a better way to word it is the return from the function gets overriden by the print statement following it\n",
    "#but if we removed the last print we would get: \n",
    "#500\n",
    "#500\n",
    "#300\n",
    "#300"
   ]
  },
  {
   "cell_type": "code",
   "execution_count": 13,
   "id": "168e5bfa",
   "metadata": {},
   "outputs": [
    {
     "name": "stdout",
     "output_type": "stream",
     "text": [
      "500\n",
      "500\n",
      "300\n",
      "300\n"
     ]
    }
   ],
   "source": [
    "#13\n",
    "b = 500\n",
    "print(b)\n",
    "def a():\n",
    "    b = 300\n",
    "    print(b)\n",
    "    return b\n",
    "print(b)\n",
    "b=a()\n",
    "print(b)\n",
    "\n",
    "#Predictions: \n",
    "#it will print 500\n",
    "#then it will print 500\n",
    "#then it will print 300\n",
    "#then it will print 300\n",
    "#the last 300 was saved as part of the b variable so it got printed"
   ]
  },
  {
   "cell_type": "code",
   "execution_count": 14,
   "id": "10c7d7ed",
   "metadata": {},
   "outputs": [
    {
     "name": "stdout",
     "output_type": "stream",
     "text": [
      "1\n",
      "3\n",
      "2\n"
     ]
    }
   ],
   "source": [
    "#14\n",
    "def a():\n",
    "    print(1)\n",
    "    b()\n",
    "    print(2)\n",
    "def b():\n",
    "    print(3)\n",
    "a()\n",
    "\n",
    "#Predictions: \n",
    "#it will print 1\n",
    "#then it will print 3\n",
    "#then it will print 2\n",
    "#because the compiler will jump from where the line had b() down to its function call"
   ]
  },
  {
   "cell_type": "code",
   "execution_count": 15,
   "id": "fc6f746e",
   "metadata": {},
   "outputs": [
    {
     "name": "stdout",
     "output_type": "stream",
     "text": [
      "1\n",
      "3\n",
      "5\n",
      "10\n"
     ]
    }
   ],
   "source": [
    "#15\n",
    "def a():\n",
    "    print(1)\n",
    "    x = b()\n",
    "    print(x)\n",
    "    return 10\n",
    "def b():\n",
    "    print(3)\n",
    "    return 5\n",
    "y = a()\n",
    "print(y)\n",
    "\n",
    "#Predictions: \n",
    "#it will print 1\n",
    "#then it will print 3 \n",
    "#then it will print 5 \n",
    "#then it will print 10\n",
    "#because the compiler will jump from the print(x) call line down to the b() function and execute"
   ]
  }
 ],
 "metadata": {
  "kernelspec": {
   "display_name": "Python 3",
   "language": "python",
   "name": "python3"
  },
  "language_info": {
   "codemirror_mode": {
    "name": "ipython",
    "version": 3
   },
   "file_extension": ".py",
   "mimetype": "text/x-python",
   "name": "python",
   "nbconvert_exporter": "python",
   "pygments_lexer": "ipython3",
   "version": "3.8.8"
  }
 },
 "nbformat": 4,
 "nbformat_minor": 5
}
